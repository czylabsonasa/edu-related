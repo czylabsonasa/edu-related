{
 "cells": [
  {
   "cell_type": "markdown",
   "metadata": {},
   "source": [
    "értékek változását/viszonyát figyeljük.<br>\n",
    "egyedi:\n",
    "$$\n",
    "v=pq\\hspace 2cm i_v=\\frac{v_1}{v_0}=\\frac{p_1 q_1}{p_0 q_0}\n",
    "$$\n",
    "<br>\n",
    "A sokaság fel van bontva részekre, aggregátum:\n",
    "$$\n",
    "I_v=\\frac{\\sum v_1}{\\sum v_0}=\\frac{\\sum p_1 q_1}{\\sum p_0 q_0}\n",
    "$$\n",
    "<br>\n",
    "Ezt a $I_v$ értékváltozást-indexet két hatás szorzatára bonthatjuk, az egyik \n",
    "az árak megváltozását (árindex) a másik a volumenek, mennyiségek változását méri (volumenindex).\n",
    "$$\n",
    "I_v=I_p^{s}I_q^{1-s}=\\frac{\\sum p_1 q_s}{\\sum p_0 q_s}\\frac{\\sum p_{1-s} q_1}{\\sum p_{1-s} q_0}\n",
    "$$\n",
    "Itt is fiktív mennyiségeket kell bevezetni. $0$: Laspayres, $1$: Paasche. Fisher: a\n",
    "kétféle súlyozású ár/volumenindex mértani közepe.\n",
    "<br>\n",
    "$$\n",
    "I_p^F=\\sqrt{I_p^0 I_p^1}\n",
    "$$\n",
    "<br>\n",
    "$$\n",
    "I_q^F=\\sqrt{I_q^0 I_q^1}\n",
    "$$\n",
    "<br>"
   ]
  },
  {
   "cell_type": "code",
   "execution_count": 1,
   "metadata": {},
   "outputs": [
    {
     "data": {
      "text/html": [
       "<table>\n",
       "<thead><tr><th></th><th scope=col>ár_0</th><th scope=col>mennyiség_0</th><th scope=col>ár_1</th><th scope=col>mennyiség_1</th></tr></thead>\n",
       "<tbody>\n",
       "\t<tr><th scope=row>villamos</th><td>110</td><td>124</td><td>130</td><td>159</td></tr>\n",
       "\t<tr><th scope=row>busz</th><td>150</td><td>111</td><td>200</td><td> 87</td></tr>\n",
       "\t<tr><th scope=row>hév</th><td>140</td><td> 17</td><td>140</td><td> 52</td></tr>\n",
       "</tbody>\n",
       "</table>\n"
      ],
      "text/latex": [
       "\\begin{tabular}{r|llll}\n",
       "  & ár\\_0 & mennyiség\\_0 & ár\\_1 & mennyiség\\_1\\\\\n",
       "\\hline\n",
       "\tvillamos & 110 & 124 & 130 & 159\\\\\n",
       "\tbusz & 150 & 111 & 200 &  87\\\\\n",
       "\thév & 140 &  17 & 140 &  52\\\\\n",
       "\\end{tabular}\n"
      ],
      "text/markdown": [
       "\n",
       "| <!--/--> | ár_0 | mennyiség_0 | ár_1 | mennyiség_1 | \n",
       "|---|---|---|\n",
       "| villamos | 110 | 124 | 130 | 159 | \n",
       "| busz | 150 | 111 | 200 |  87 | \n",
       "| hév | 140 |  17 | 140 |  52 | \n",
       "\n",
       "\n"
      ],
      "text/plain": [
       "         ár_0 mennyiség_0 ár_1 mennyiség_1\n",
       "villamos 110  124         130  159        \n",
       "busz     150  111         200   87        \n",
       "hév      140   17         140   52        "
      ]
     },
     "metadata": {},
     "output_type": "display_data"
    },
    {
     "data": {
      "text/html": [
       "'először azonosítsuk az oszlopokat'"
      ],
      "text/latex": [
       "'először azonosítsuk az oszlopokat'"
      ],
      "text/markdown": [
       "'először azonosítsuk az oszlopokat'"
      ],
      "text/plain": [
       "[1] \"először azonosítsuk az oszlopokat\""
      ]
     },
     "metadata": {},
     "output_type": "display_data"
    },
    {
     "data": {
      "text/html": [
       "<table>\n",
       "<thead><tr><th></th><th scope=col>p0</th><th scope=col>q0</th><th scope=col>p1</th><th scope=col>q1</th></tr></thead>\n",
       "<tbody>\n",
       "\t<tr><th scope=row>villamos</th><td>110</td><td>124</td><td>130</td><td>159</td></tr>\n",
       "\t<tr><th scope=row>busz</th><td>150</td><td>111</td><td>200</td><td> 87</td></tr>\n",
       "\t<tr><th scope=row>hév</th><td>140</td><td> 17</td><td>140</td><td> 52</td></tr>\n",
       "</tbody>\n",
       "</table>\n"
      ],
      "text/latex": [
       "\\begin{tabular}{r|llll}\n",
       "  & p0 & q0 & p1 & q1\\\\\n",
       "\\hline\n",
       "\tvillamos & 110 & 124 & 130 & 159\\\\\n",
       "\tbusz & 150 & 111 & 200 &  87\\\\\n",
       "\thév & 140 &  17 & 140 &  52\\\\\n",
       "\\end{tabular}\n"
      ],
      "text/markdown": [
       "\n",
       "| <!--/--> | p0 | q0 | p1 | q1 | \n",
       "|---|---|---|\n",
       "| villamos | 110 | 124 | 130 | 159 | \n",
       "| busz | 150 | 111 | 200 |  87 | \n",
       "| hév | 140 |  17 | 140 |  52 | \n",
       "\n",
       "\n"
      ],
      "text/plain": [
       "         p0  q0  p1  q1 \n",
       "villamos 110 124 130 159\n",
       "busz     150 111 200  87\n",
       "hév      140  17 140  52"
      ]
     },
     "metadata": {},
     "output_type": "display_data"
    }
   ],
   "source": [
    "tbl<-read.table('./idx2.csv',header = F)\n",
    "ncol<-dim(tbl)[2]\n",
    "nrow<-dim(tbl)[1]\n",
    "colnames(tbl)=c(\"ár_0\",\"mennyiség_0\",\"ár_1\",\"mennyiség_1\")\n",
    "rownames(tbl)=c(\"villamos\",\"busz\",\"hév\")\n",
    "tbl\n",
    "paste(\"először azonosítsuk az oszlopokat\")\n",
    "colnames(tbl)=c(\"p0\",\"q0\",\"p1\",\"q1\")\n",
    "tbl\n"
   ]
  },
  {
   "cell_type": "code",
   "execution_count": 2,
   "metadata": {},
   "outputs": [
    {
     "data": {
      "text/html": [
       "'az értékek:'"
      ],
      "text/latex": [
       "'az értékek:'"
      ],
      "text/markdown": [
       "'az értékek:'"
      ],
      "text/plain": [
       "[1] \"az értékek:\""
      ]
     },
     "metadata": {},
     "output_type": "display_data"
    },
    {
     "data": {
      "text/html": [
       "<span style=white-space:pre-wrap>'V0=32670.00   V1=45350.00'</span>"
      ],
      "text/latex": [
       "'V0=32670.00   V1=45350.00'"
      ],
      "text/markdown": [
       "<span style=white-space:pre-wrap>'V0=32670.00   V1=45350.00'</span>"
      ],
      "text/plain": [
       "[1] \"V0=32670.00   V1=45350.00\""
      ]
     },
     "metadata": {},
     "output_type": "display_data"
    },
    {
     "data": {
      "text/html": [
       "'Iv=1.39'"
      ],
      "text/latex": [
       "'Iv=1.39'"
      ],
      "text/markdown": [
       "'Iv=1.39'"
      ],
      "text/plain": [
       "[1] \"Iv=1.39\""
      ]
     },
     "metadata": {},
     "output_type": "display_data"
    },
    {
     "data": {
      "text/html": [
       "<span style=white-space:pre-wrap>'Ip0=  1.24579124579125'</span>"
      ],
      "text/latex": [
       "'Ip0=  1.24579124579125'"
      ],
      "text/markdown": [
       "<span style=white-space:pre-wrap>'Ip0=  1.24579124579125'</span>"
      ],
      "text/plain": [
       "[1] \"Ip0=  1.24579124579125\""
      ]
     },
     "metadata": {},
     "output_type": "display_data"
    },
    {
     "data": {
      "text/html": [
       "<span style=white-space:pre-wrap>'Iq1=  1.11425061425061'</span>"
      ],
      "text/latex": [
       "'Iq1=  1.11425061425061'"
      ],
      "text/markdown": [
       "<span style=white-space:pre-wrap>'Iq1=  1.11425061425061'</span>"
      ],
      "text/plain": [
       "[1] \"Iq1=  1.11425061425061\""
      ]
     },
     "metadata": {},
     "output_type": "display_data"
    },
    {
     "data": {
      "text/html": [
       "'Iv = Ip0 * Iq1 = 1.39 = 1.25 * 1.11'"
      ],
      "text/latex": [
       "'Iv = Ip0 * Iq1 = 1.39 = 1.25 * 1.11'"
      ],
      "text/markdown": [
       "'Iv = Ip0 * Iq1 = 1.39 = 1.25 * 1.11'"
      ],
      "text/plain": [
       "[1] \"Iv = Ip0 * Iq1 = 1.39 = 1.25 * 1.11\""
      ]
     },
     "metadata": {},
     "output_type": "display_data"
    }
   ],
   "source": [
    "q0<-tbl[,\"q0\"]\n",
    "q1<-tbl[,\"q1\"]\n",
    "p0<-tbl[,\"p0\"]\n",
    "p1<-tbl[,\"p1\"]\n",
    "V0<-sum(p0*q0)\n",
    "V1<-sum(p1*q1)\n",
    "paste(\"az értékek:\")\n",
    "paste(sprintf(\"V0=%.2f   V1=%.2f\",V0,V1))\n",
    "Iv<-(V1/V0)\n",
    "paste(sprintf(\"Iv=%.2f\",Iv))\n",
    "Ip0<-sum(p1*q0)/sum(p0*q0)\n",
    "paste(\"Ip0= \",Ip0)\n",
    "Iq1<-(Iv/Ip0)\n",
    "paste(\"Iq1= \",Iq1)\n",
    "paste(sprintf(\"Iv = Ip0 * Iq1 = %.2f = %.2f * %.2f\",Iv,Ip0,Iq1))\n"
   ]
  },
  {
   "cell_type": "code",
   "execution_count": 3,
   "metadata": {},
   "outputs": [
    {
     "data": {
      "text/html": [
       "<span style=white-space:pre-wrap>'Ip1=  1.19910100475939'</span>"
      ],
      "text/latex": [
       "'Ip1=  1.19910100475939'"
      ],
      "text/markdown": [
       "<span style=white-space:pre-wrap>'Ip1=  1.19910100475939'</span>"
      ],
      "text/plain": [
       "[1] \"Ip1=  1.19910100475939\""
      ]
     },
     "metadata": {},
     "output_type": "display_data"
    },
    {
     "data": {
      "text/html": [
       "<span style=white-space:pre-wrap>'Iq0=  1.15763697581879'</span>"
      ],
      "text/latex": [
       "'Iq0=  1.15763697581879'"
      ],
      "text/markdown": [
       "<span style=white-space:pre-wrap>'Iq0=  1.15763697581879'</span>"
      ],
      "text/plain": [
       "[1] \"Iq0=  1.15763697581879\""
      ]
     },
     "metadata": {},
     "output_type": "display_data"
    },
    {
     "data": {
      "text/html": [
       "'a másik felbontás'"
      ],
      "text/latex": [
       "'a másik felbontás'"
      ],
      "text/markdown": [
       "'a másik felbontás'"
      ],
      "text/plain": [
       "[1] \"a másik felbontás\""
      ]
     },
     "metadata": {},
     "output_type": "display_data"
    },
    {
     "data": {
      "text/html": [
       "'Iv = Ip1 * Iq0 = 1.39 = 1.20 * 1.16'"
      ],
      "text/latex": [
       "'Iv = Ip1 * Iq0 = 1.39 = 1.20 * 1.16'"
      ],
      "text/markdown": [
       "'Iv = Ip1 * Iq0 = 1.39 = 1.20 * 1.16'"
      ],
      "text/plain": [
       "[1] \"Iv = Ip1 * Iq0 = 1.39 = 1.20 * 1.16\""
      ]
     },
     "metadata": {},
     "output_type": "display_data"
    }
   ],
   "source": [
    "Ip1<-sum(p1*q1)/sum(p0*q1)\n",
    "paste(\"Ip1= \",Ip1)\n",
    "Iq0<-(Iv/Ip1)\n",
    "paste(\"Iq0= \",Iq0)\n",
    "paste(\"a másik felbontás\")\n",
    "paste(sprintf(\"Iv = Ip1 * Iq0 = %.2f = %.2f * %.2f\",Iv,Ip1,Iq0))\n"
   ]
  },
  {
   "cell_type": "code",
   "execution_count": 4,
   "metadata": {},
   "outputs": [
    {
     "data": {
      "text/html": [
       "'átlagos felbontás:'"
      ],
      "text/latex": [
       "'átlagos felbontás:'"
      ],
      "text/markdown": [
       "'átlagos felbontás:'"
      ],
      "text/plain": [
       "[1] \"átlagos felbontás:\""
      ]
     },
     "metadata": {},
     "output_type": "display_data"
    },
    {
     "data": {
      "text/html": [
       "'Iv = IpF * IqF = 1.39 = 1.22 * 1.14'"
      ],
      "text/latex": [
       "'Iv = IpF * IqF = 1.39 = 1.22 * 1.14'"
      ],
      "text/markdown": [
       "'Iv = IpF * IqF = 1.39 = 1.22 * 1.14'"
      ],
      "text/plain": [
       "[1] \"Iv = IpF * IqF = 1.39 = 1.22 * 1.14\""
      ]
     },
     "metadata": {},
     "output_type": "display_data"
    }
   ],
   "source": [
    "paste('átlagos felbontás:')\n",
    "IpF=sqrt(Ip0*Ip1)\n",
    "IqF=sqrt(Iq0*Iq1)\n",
    "paste(sprintf(\"Iv = IpF * IqF = %.2f = %.2f * %.2f\",Iv,IpF,IqF))\n"
   ]
  },
  {
   "cell_type": "code",
   "execution_count": null,
   "metadata": {},
   "outputs": [],
   "source": []
  }
 ],
 "metadata": {
  "hide_input": false,
  "kernelspec": {
   "display_name": "R",
   "language": "R",
   "name": "ir"
  },
  "language_info": {
   "codemirror_mode": "r",
   "file_extension": ".r",
   "mimetype": "text/x-r-source",
   "name": "R",
   "pygments_lexer": "r",
   "version": "3.3.2"
  }
 },
 "nbformat": 4,
 "nbformat_minor": 2
}
