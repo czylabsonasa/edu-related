{
 "cells": [
  {
   "cell_type": "markdown",
   "metadata": {},
   "source": [
    "## Leíró\n",
    "* [>>> 1](leiro.ipynb)"
   ]
  },
  {
   "cell_type": "markdown",
   "metadata": {
    "heading_collapsed": true
   },
   "source": [
    "## Asszociáció\n",
    "  * [>>> 1](asszoc1.ipynb)\n",
    "  * [>>> 2](asszoc2.ipynb)\n",
    "  * [>>> 3](asszoc3.ipynb)"
   ]
  },
  {
   "cell_type": "markdown",
   "metadata": {},
   "source": [
    "## Vegyes Kapcsolat\n",
    "* [>>> 1](vegyes1.ipynb)\n",
    "* [>>> 2](vegyes2.ipynb)\n",
    "* [>>> 3](vegyes3.ipynb)"
   ]
  },
  {
   "cell_type": "markdown",
   "metadata": {
    "collapsed": true
   },
   "source": [
    "## Korreláció\n",
    "* [>>> 1](korr1.ipynb)\n",
    "* [>>> 2](korr2.ipynb)\n",
    "* [>>> 3](korr3.ipynb)"
   ]
  },
  {
   "cell_type": "markdown",
   "metadata": {},
   "source": [
    "## Standardizálás\n",
    "* [>>> 1](stand1.ipynb)\n",
    "* [>>> 2](stand2.ipynb)\n",
    "* [>>> 3](stand3.ipynb)"
   ]
  },
  {
   "cell_type": "markdown",
   "metadata": {},
   "source": [
    "## Index-számítás\n",
    "* [>>> 1](ind1.ipynb)\n",
    "* [>>> 2](ind2.ipynb)\n",
    "* [>>> 3](ind3.ipynb)"
   ]
  },
  {
   "cell_type": "code",
   "execution_count": null,
   "metadata": {},
   "outputs": [],
   "source": []
  }
 ],
 "metadata": {
  "hide_input": false,
  "kernelspec": {
   "display_name": "Python 3",
   "language": "python",
   "name": "python3"
  },
  "language_info": {
   "codemirror_mode": {
    "name": "ipython",
    "version": 3
   },
   "file_extension": ".py",
   "mimetype": "text/x-python",
   "name": "python",
   "nbconvert_exporter": "python",
   "pygments_lexer": "ipython3",
   "version": "3.5.3"
  }
 },
 "nbformat": 4,
 "nbformat_minor": 2
}
