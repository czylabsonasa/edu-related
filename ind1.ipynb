{
 "cells": [
  {
   "cell_type": "markdown",
   "metadata": {},
   "source": [
    "Az átlagok változását figyeljük.\n",
    "$$\n",
    "v=pq\n",
    "$$\n",
    "<br>\n",
    "egyedi értékindex:\n",
    "$$\n",
    "i_v=\\frac{v_1}{v_0}\n",
    "$$\n",
    "<br>\n",
    "Értékindex:\n",
    "<br>\n",
    "$$\n",
    "I_v=\\frac{\\sum v_1}{\\sum v_0}=\n",
    "\\frac{\\sum p_1 q_1}{\\sum p_0 q_0}\n",
    "$$\n",
    "<br>\n",
    "Az értékindexet két hatás szorzatára bonthatjuk, az egyik \n",
    "az árak változását, a másik a méri (összetételhatás):\n",
    "<br><br>\n",
    "$$\n",
    "K=K^{'}+K^{''}\n",
    "$$\n",
    "<br>\n",
    "Ehhez fiktív átlagokat kell bevezetni:\n",
    "$$\n",
    "K=\\left(\\frac{\\sum B_1 V_1}{\\sum B_1}-\\frac{\\sum B_1 V_0}{\\sum B_1}\\right)+\n",
    "\\left(\\frac{\\sum B_1 V_0}{\\sum B_1}-\\frac{\\sum B_0 V_0}{\\sum B_0}\\right)=\n",
    "$$\n",
    "$$\n",
    "=\\frac{\\sum B_1 (V_1-V_0)}{\\sum B_1}+\n",
    "\\left(\\frac{\\sum B_1 V_0}{\\sum B_1}-\\frac{\\sum B_0 V_0}{\\sum B_0}\\right)=\n",
    "$$\n",
    "$$\n",
    "=K_0^{'}+K_1^{''}\n",
    "$$\n",
    "<br>\n",
    "avagy\n",
    "<br>\n",
    "$$\n",
    "K=\\left(\\frac{\\sum B_1 V_1}{\\sum B_1}-\\frac{\\sum B_0 V_1}{\\sum B_0}\\right)+\n",
    "\\left(\\frac{\\sum B_0 V_1}{\\sum B_0}-\\frac{\\sum B_0 V_0}{\\sum B_0}\\right)=\n",
    "$$\n",
    "$$\n",
    "=\\left(\\frac{\\sum B_1 V_1}{\\sum B_1}-\\frac{\\sum B_0 V_1}{\\sum B_0}\\right)+\n",
    "\\frac{\\sum B_0 (V_1-V_0)}{\\sum B_0}=\n",
    "$$\n",
    "$$\n",
    "=K_0^{''}+K_1^{'}\n",
    "$$\n",
    "<br>\n",
    "Ez a különbség felbontása. Ha a $+,- \\Leftrightarrow *,/$ cseréket elvégezzük a hányadosfelbontást kapjuk."
   ]
  },
  {
   "cell_type": "code",
   "execution_count": 25,
   "metadata": {},
   "outputs": [
    {
     "data": {
      "text/html": [
       "<table>\n",
       "<thead><tr><th></th><th scope=col>bér_0</th><th scope=col>létszám_0</th><th scope=col>bér_1</th><th scope=col>létszám_1</th></tr></thead>\n",
       "<tbody>\n",
       "\t<tr><th scope=row>szak</th><td>43300</td><td>110  </td><td>43700</td><td>117  </td></tr>\n",
       "\t<tr><th scope=row>betanított</th><td>38050</td><td> 40  </td><td>39900</td><td> 57  </td></tr>\n",
       "\t<tr><th scope=row>segéd</th><td>32400</td><td> 51  </td><td>32800</td><td>146  </td></tr>\n",
       "</tbody>\n",
       "</table>\n"
      ],
      "text/latex": [
       "\\begin{tabular}{r|llll}\n",
       "  & bér\\_0 & létszám\\_0 & bér\\_1 & létszám\\_1\\\\\n",
       "\\hline\n",
       "\tszak & 43300 & 110   & 43700 & 117  \\\\\n",
       "\tbetanított & 38050 &  40   & 39900 &  57  \\\\\n",
       "\tsegéd & 32400 &  51   & 32800 & 146  \\\\\n",
       "\\end{tabular}\n"
      ],
      "text/markdown": [
       "\n",
       "| <!--/--> | bér_0 | létszám_0 | bér_1 | létszám_1 | \n",
       "|---|---|---|\n",
       "| szak | 43300 | 110   | 43700 | 117   | \n",
       "| betanított | 38050 |  40   | 39900 |  57   | \n",
       "| segéd | 32400 |  51   | 32800 | 146   | \n",
       "\n",
       "\n"
      ],
      "text/plain": [
       "           bér_0 létszám_0 bér_1 létszám_1\n",
       "szak       43300 110       43700 117      \n",
       "betanított 38050  40       39900  57      \n",
       "segéd      32400  51       32800 146      "
      ]
     },
     "metadata": {},
     "output_type": "display_data"
    },
    {
     "data": {
      "text/html": [
       "'először azonosítsuk az oszlopokat'"
      ],
      "text/latex": [
       "'először azonosítsuk az oszlopokat'"
      ],
      "text/markdown": [
       "'először azonosítsuk az oszlopokat'"
      ],
      "text/plain": [
       "[1] \"először azonosítsuk az oszlopokat\""
      ]
     },
     "metadata": {},
     "output_type": "display_data"
    },
    {
     "data": {
      "text/html": [
       "<table>\n",
       "<thead><tr><th></th><th scope=col>v0</th><th scope=col>b0</th><th scope=col>v1</th><th scope=col>b1</th></tr></thead>\n",
       "<tbody>\n",
       "\t<tr><th scope=row>szak</th><td>43300</td><td>110  </td><td>43700</td><td>117  </td></tr>\n",
       "\t<tr><th scope=row>betanított</th><td>38050</td><td> 40  </td><td>39900</td><td> 57  </td></tr>\n",
       "\t<tr><th scope=row>segéd</th><td>32400</td><td> 51  </td><td>32800</td><td>146  </td></tr>\n",
       "</tbody>\n",
       "</table>\n"
      ],
      "text/latex": [
       "\\begin{tabular}{r|llll}\n",
       "  & v0 & b0 & v1 & b1\\\\\n",
       "\\hline\n",
       "\tszak & 43300 & 110   & 43700 & 117  \\\\\n",
       "\tbetanított & 38050 &  40   & 39900 &  57  \\\\\n",
       "\tsegéd & 32400 &  51   & 32800 & 146  \\\\\n",
       "\\end{tabular}\n"
      ],
      "text/markdown": [
       "\n",
       "| <!--/--> | v0 | b0 | v1 | b1 | \n",
       "|---|---|---|\n",
       "| szak | 43300 | 110   | 43700 | 117   | \n",
       "| betanított | 38050 |  40   | 39900 |  57   | \n",
       "| segéd | 32400 |  51   | 32800 | 146   | \n",
       "\n",
       "\n"
      ],
      "text/plain": [
       "           v0    b0  v1    b1 \n",
       "szak       43300 110 43700 117\n",
       "betanított 38050  40 39900  57\n",
       "segéd      32400  51 32800 146"
      ]
     },
     "metadata": {},
     "output_type": "display_data"
    }
   ],
   "source": [
    "tbl<-read.table('./stand1.csv',header = F)\n",
    "ncol<-dim(tbl)[2]\n",
    "nrow<-dim(tbl)[1]\n",
    "colnames(tbl)=c(\"bér_0\",\"létszám_0\",\"bér_1\",\"létszám_1\")\n",
    "rownames(tbl)=c(\"szak\",\"betanított\",\"segéd\")\n",
    "tbl\n",
    "paste(\"először azonosítsuk az oszlopokat\")\n",
    "colnames(tbl)=c(\"v0\",\"b0\",\"v1\",\"b1\")\n",
    "tbl\n"
   ]
  },
  {
   "cell_type": "code",
   "execution_count": 48,
   "metadata": {},
   "outputs": [
    {
     "data": {
      "text/html": [
       "'a főátlagok:'"
      ],
      "text/latex": [
       "'a főátlagok:'"
      ],
      "text/markdown": [
       "'a főátlagok:'"
      ],
      "text/plain": [
       "[1] \"a főátlagok:\""
      ]
     },
     "metadata": {},
     "output_type": "display_data"
    },
    {
     "data": {
      "text/html": [
       "<span style=white-space:pre-wrap>'V0=39489.55   V1=38050.00'</span>"
      ],
      "text/latex": [
       "'V0=39489.55   V1=38050.00'"
      ],
      "text/markdown": [
       "<span style=white-space:pre-wrap>'V0=39489.55   V1=38050.00'</span>"
      ],
      "text/plain": [
       "[1] \"V0=39489.55   V1=38050.00\""
      ]
     },
     "metadata": {},
     "output_type": "display_data"
    },
    {
     "data": {
      "text/html": [
       "'K=-1439.55'"
      ],
      "text/latex": [
       "'K=-1439.55'"
      ],
      "text/markdown": [
       "'K=-1439.55'"
      ],
      "text/plain": [
       "[1] \"K=-1439.55\""
      ]
     },
     "metadata": {},
     "output_type": "display_data"
    },
    {
     "data": {
      "text/html": [
       "'K = Kv + Kvv = -1439.55 = 658.28 + -2097.83'"
      ],
      "text/latex": [
       "'K = Kv + Kvv = -1439.55 = 658.28 + -2097.83'"
      ],
      "text/markdown": [
       "'K = Kv + Kvv = -1439.55 = 658.28 + -2097.83'"
      ],
      "text/plain": [
       "[1] \"K = Kv + Kvv = -1439.55 = 658.28 + -2097.83\""
      ]
     },
     "metadata": {},
     "output_type": "display_data"
    }
   ],
   "source": [
    "v0<-tbl[,\"v0\"]\n",
    "b0<-tbl[,\"b0\"]\n",
    "v1<-tbl[,\"v1\"]\n",
    "b1<-tbl[,\"b1\"]\n",
    "V0<-sum(v0*b0)/sum(b0)\n",
    "V1<-sum(v1*b1)/sum(b1)\n",
    "paste(\"a főátlagok:\")\n",
    "paste(sprintf(\"V0=%.2f   V1=%.2f\",V0,V1))\n",
    "K<-(V1-V0)\n",
    "paste(sprintf(\"K=%.2f\",K))\n",
    "fiktiv<-sum(b1*v0)/sum(b1)\n",
    "#paste(\"fiktiv\",fiktiv)\n",
    "Kv<-(V1-fiktiv)\n",
    "Kvv<-(fiktiv-V0)\n",
    "#paste(\"Kv+Kvv\",Kv+Kvv)\n",
    "paste(sprintf(\"K = Kv + Kvv = %.2f = %.2f + %.2f\",K,Kv,Kvv))\n"
   ]
  },
  {
   "cell_type": "code",
   "execution_count": 50,
   "metadata": {},
   "outputs": [
    {
     "data": {
      "text/html": [
       "'a másik felbontás'"
      ],
      "text/latex": [
       "'a másik felbontás'"
      ],
      "text/markdown": [
       "'a másik felbontás'"
      ],
      "text/plain": [
       "[1] \"a másik felbontás\""
      ]
     },
     "metadata": {},
     "output_type": "display_data"
    },
    {
     "data": {
      "text/html": [
       "'K = Kv + Kvv = -1439.55 = 688.56 + -2128.11'"
      ],
      "text/latex": [
       "'K = Kv + Kvv = -1439.55 = 688.56 + -2128.11'"
      ],
      "text/markdown": [
       "'K = Kv + Kvv = -1439.55 = 688.56 + -2128.11'"
      ],
      "text/plain": [
       "[1] \"K = Kv + Kvv = -1439.55 = 688.56 + -2128.11\""
      ]
     },
     "metadata": {},
     "output_type": "display_data"
    },
    {
     "data": {
      "text/html": [
       "'az átlagos felbontás'"
      ],
      "text/latex": [
       "'az átlagos felbontás'"
      ],
      "text/markdown": [
       "'az átlagos felbontás'"
      ],
      "text/plain": [
       "[1] \"az átlagos felbontás\""
      ]
     },
     "metadata": {},
     "output_type": "display_data"
    },
    {
     "data": {
      "text/html": [
       "'K = Kv + Kvv = -1439.55 = 673.42 + -2112.97'"
      ],
      "text/latex": [
       "'K = Kv + Kvv = -1439.55 = 673.42 + -2112.97'"
      ],
      "text/markdown": [
       "'K = Kv + Kvv = -1439.55 = 673.42 + -2112.97'"
      ],
      "text/plain": [
       "[1] \"K = Kv + Kvv = -1439.55 = 673.42 + -2112.97\""
      ]
     },
     "metadata": {},
     "output_type": "display_data"
    }
   ],
   "source": [
    "paste(\"a másik felbontás\")\n",
    "vitkif<-sum(b0*v1)/sum(b0)\n",
    "Kv2<-vitkif-V0\n",
    "Kvv2<-V1-vitkif\n",
    "paste(sprintf(\"K = Kv + Kvv = %.2f = %.2f + %.2f\",K,Kv2,Kvv2))\n",
    "paste(\"az átlagos felbontás\")\n",
    "paste(sprintf(\"K = Kv + Kvv = %.2f = %.2f + %.2f\",K,0.5*(Kv2+Kv),0.5*(Kvv2+Kvv)))"
   ]
  }
 ],
 "metadata": {
  "hide_input": false,
  "kernelspec": {
   "display_name": "R",
   "language": "R",
   "name": "ir"
  },
  "language_info": {
   "codemirror_mode": "r",
   "file_extension": ".r",
   "mimetype": "text/x-r-source",
   "name": "R",
   "pygments_lexer": "r",
   "version": "3.3.2"
  }
 },
 "nbformat": 4,
 "nbformat_minor": 2
}
