{
 "cells": [
  {
   "cell_type": "markdown",
   "metadata": {},
   "source": [
    "Az átlagok változását figyeljük.\n",
    "$$\n",
    "V=\\frac{A}{B} \\hspace 2cm A=BV\n",
    "$$\n",
    "<br>\n",
    "$$\n",
    "K=V_1-V_0=\\frac{A_1}{B_1}-\\frac{A_0}{B_0}\n",
    "$$\n",
    "<br>\n",
    "A sokaság fel van bontva részekre:<br>\n",
    "<br>\n",
    "$$\n",
    "K=V_1-V_0=\\frac{\\sum A_1}{\\sum B_1}-\\frac{\\sum A_0}{\\sum B_0}=\n",
    "\\frac{\\sum B_1 V_1}{\\sum B_1}-\\frac{\\sum B_0 V_0}{\\sum B_0}\n",
    "$$\n",
    "<br>\n",
    "Ezt a $K$ különbséget két hatás összegére bonthatjuk, az egyik \n",
    "a részátlagok megváltozását (részhatás) a másik a sokaság összetételének megváltozását méri (összetételhatás):\n",
    "<br><br>\n",
    "$$\n",
    "K=K^{'}+K^{''}\n",
    "$$\n",
    "<br>\n",
    "Ehhez fiktív átlagokat kell bevezetni:\n",
    "$$\n",
    "K=\\left(\\frac{\\sum B_1 V_1}{\\sum B_1}-\\frac{\\sum B_1 V_0}{\\sum B_1}\\right)+\n",
    "\\left(\\frac{\\sum B_1 V_0}{\\sum B_1}-\\frac{\\sum B_0 V_0}{\\sum B_0}\\right)=\n",
    "$$\n",
    "$$\n",
    "=\\frac{\\sum B_1 (V_1-V_0)}{\\sum B_1}+\n",
    "\\left(\\frac{\\sum B_1 V_0}{\\sum B_1}-\\frac{\\sum B_0 V_0}{\\sum B_0}\\right)=\n",
    "$$\n",
    "$$\n",
    "=K_0^{'}+K_1^{''}\n",
    "$$\n",
    "<br>\n",
    "avagy\n",
    "<br>\n",
    "$$\n",
    "K=\\left(\\frac{\\sum B_1 V_1}{\\sum B_1}-\\frac{\\sum B_0 V_1}{\\sum B_0}\\right)+\n",
    "\\left(\\frac{\\sum B_0 V_1}{\\sum B_0}-\\frac{\\sum B_0 V_0}{\\sum B_0}\\right)=\n",
    "$$\n",
    "$$\n",
    "=\\left(\\frac{\\sum B_1 V_1}{\\sum B_1}-\\frac{\\sum B_0 V_1}{\\sum B_0}\\right)+\n",
    "\\frac{\\sum B_0 (V_1-V_0)}{\\sum B_0}=\n",
    "$$\n",
    "$$\n",
    "=K_0^{''}+K_1^{'}\n",
    "$$\n",
    "<br>\n",
    "Ez a különbség felbontása. Ha a $+,- \\Leftrightarrow *,/$ cseréket elvégezzük a hányadosfelbontást kapjuk."
   ]
  },
  {
   "cell_type": "code",
   "execution_count": 10,
   "metadata": {},
   "outputs": [
    {
     "data": {
      "text/html": [
       "<table>\n",
       "<thead><tr><th></th><th scope=col>háztartás_0</th><th scope=col>háztartás_1</th><th scope=col>átlagfogyasztás_0</th><th scope=col>átlagfogyasztás_1</th></tr></thead>\n",
       "<tbody>\n",
       "\t<tr><th scope=row>Budapest</th><td>636  </td><td> 731 </td><td> 79.8</td><td> 84.0</td></tr>\n",
       "\t<tr><th scope=row>vidék</th><td>994  </td><td>2167 </td><td>108.5</td><td>117.2</td></tr>\n",
       "</tbody>\n",
       "</table>\n"
      ],
      "text/latex": [
       "\\begin{tabular}{r|llll}\n",
       "  & háztartás\\_0 & háztartás\\_1 & átlagfogyasztás\\_0 & átlagfogyasztás\\_1\\\\\n",
       "\\hline\n",
       "\tBudapest & 636   &  731  &  79.8 &  84.0\\\\\n",
       "\tvidék & 994   & 2167  & 108.5 & 117.2\\\\\n",
       "\\end{tabular}\n"
      ],
      "text/markdown": [
       "\n",
       "| <!--/--> | háztartás_0 | háztartás_1 | átlagfogyasztás_0 | átlagfogyasztás_1 | \n",
       "|---|---|\n",
       "| Budapest | 636   |  731  |  79.8 |  84.0 | \n",
       "| vidék | 994   | 2167  | 108.5 | 117.2 | \n",
       "\n",
       "\n"
      ],
      "text/plain": [
       "         háztartás_0 háztartás_1 átlagfogyasztás_0 átlagfogyasztás_1\n",
       "Budapest 636          731         79.8              84.0            \n",
       "vidék    994         2167        108.5             117.2            "
      ]
     },
     "metadata": {},
     "output_type": "display_data"
    },
    {
     "data": {
      "text/html": [
       "'először azonosítsuk az oszlopokat'"
      ],
      "text/latex": [
       "'először azonosítsuk az oszlopokat'"
      ],
      "text/markdown": [
       "'először azonosítsuk az oszlopokat'"
      ],
      "text/plain": [
       "[1] \"először azonosítsuk az oszlopokat\""
      ]
     },
     "metadata": {},
     "output_type": "display_data"
    },
    {
     "data": {
      "text/html": [
       "<table>\n",
       "<thead><tr><th></th><th scope=col>b0</th><th scope=col>b1</th><th scope=col>v0</th><th scope=col>v1</th></tr></thead>\n",
       "<tbody>\n",
       "\t<tr><th scope=row>Budapest</th><td>636  </td><td> 731 </td><td> 79.8</td><td> 84.0</td></tr>\n",
       "\t<tr><th scope=row>vidék</th><td>994  </td><td>2167 </td><td>108.5</td><td>117.2</td></tr>\n",
       "</tbody>\n",
       "</table>\n"
      ],
      "text/latex": [
       "\\begin{tabular}{r|llll}\n",
       "  & b0 & b1 & v0 & v1\\\\\n",
       "\\hline\n",
       "\tBudapest & 636   &  731  &  79.8 &  84.0\\\\\n",
       "\tvidék & 994   & 2167  & 108.5 & 117.2\\\\\n",
       "\\end{tabular}\n"
      ],
      "text/markdown": [
       "\n",
       "| <!--/--> | b0 | b1 | v0 | v1 | \n",
       "|---|---|\n",
       "| Budapest | 636   |  731  |  79.8 |  84.0 | \n",
       "| vidék | 994   | 2167  | 108.5 | 117.2 | \n",
       "\n",
       "\n"
      ],
      "text/plain": [
       "         b0  b1   v0    v1   \n",
       "Budapest 636  731  79.8  84.0\n",
       "vidék    994 2167 108.5 117.2"
      ]
     },
     "metadata": {},
     "output_type": "display_data"
    }
   ],
   "source": [
    "tbl<-read.table('./stand3.csv',header = F)\n",
    "ncol<-dim(tbl)[2]\n",
    "nrow<-dim(tbl)[1]\n",
    "colnames(tbl)=c(\"háztartás_0\",\"háztartás_1\",\"átlagfogyasztás_0\",\"átlagfogyasztás_1\")\n",
    "rownames(tbl)=c(\"Budapest\",\"vidék\")\n",
    "tbl\n",
    "paste(\"először azonosítsuk az oszlopokat\")\n",
    "colnames(tbl)=c(\"b0\",\"b1\",\"v0\",\"v1\")\n",
    "tbl\n"
   ]
  },
  {
   "cell_type": "code",
   "execution_count": 13,
   "metadata": {},
   "outputs": [
    {
     "data": {
      "text/html": [
       "'a főátlagok:'"
      ],
      "text/latex": [
       "'a főátlagok:'"
      ],
      "text/markdown": [
       "'a főátlagok:'"
      ],
      "text/plain": [
       "[1] \"a főátlagok:\""
      ]
     },
     "metadata": {},
     "output_type": "display_data"
    },
    {
     "data": {
      "text/html": [
       "<span style=white-space:pre-wrap>'V0=97.30   V1=108.83'</span>"
      ],
      "text/latex": [
       "'V0=97.30   V1=108.83'"
      ],
      "text/markdown": [
       "<span style=white-space:pre-wrap>'V0=97.30   V1=108.83'</span>"
      ],
      "text/plain": [
       "[1] \"V0=97.30   V1=108.83\""
      ]
     },
     "metadata": {},
     "output_type": "display_data"
    },
    {
     "data": {
      "text/html": [
       "'K=11.52'"
      ],
      "text/latex": [
       "'K=11.52'"
      ],
      "text/markdown": [
       "'K=11.52'"
      ],
      "text/plain": [
       "[1] \"K=11.52\""
      ]
     },
     "metadata": {},
     "output_type": "display_data"
    },
    {
     "data": {
      "text/html": [
       "'K = Kv + Kvv = 11.52 = 7.56 + 3.96'"
      ],
      "text/latex": [
       "'K = Kv + Kvv = 11.52 = 7.56 + 3.96'"
      ],
      "text/markdown": [
       "'K = Kv + Kvv = 11.52 = 7.56 + 3.96'"
      ],
      "text/plain": [
       "[1] \"K = Kv + Kvv = 11.52 = 7.56 + 3.96\""
      ]
     },
     "metadata": {},
     "output_type": "display_data"
    }
   ],
   "source": [
    "v0<-tbl[,\"v0\"]\n",
    "b0<-tbl[,\"b0\"]\n",
    "v1<-tbl[,\"v1\"]\n",
    "b1<-tbl[,\"b1\"]\n",
    "V0<-sum(v0*b0)/sum(b0)\n",
    "V1<-sum(v1*b1)/sum(b1)\n",
    "paste(\"a főátlagok:\")\n",
    "paste(sprintf(\"V0=%.2f   V1=%.2f\",V0,V1))\n",
    "K<-(V1-V0)\n",
    "paste(sprintf(\"K=%.2f\",K))\n",
    "fiktiv<-sum(b1*v0)/sum(b1)\n",
    "#paste(\"fiktiv\",fiktiv)\n",
    "Kv<-(V1-fiktiv)\n",
    "Kvv<-(fiktiv-V0)\n",
    "#paste(\"Kv+Kvv\",Kv+Kvv)\n",
    "paste(sprintf(\"K = Kv + Kvv = %.2f = %.2f + %.2f\",K,Kv,Kvv))\n"
   ]
  },
  {
   "cell_type": "code",
   "execution_count": 14,
   "metadata": {},
   "outputs": [
    {
     "data": {
      "text/html": [
       "'a másik felbontás'"
      ],
      "text/latex": [
       "'a másik felbontás'"
      ],
      "text/markdown": [
       "'a másik felbontás'"
      ],
      "text/plain": [
       "[1] \"a másik felbontás\""
      ]
     },
     "metadata": {},
     "output_type": "display_data"
    },
    {
     "data": {
      "text/html": [
       "'K = Kv + Kvv = 11.52 = 6.94 + 4.58'"
      ],
      "text/latex": [
       "'K = Kv + Kvv = 11.52 = 6.94 + 4.58'"
      ],
      "text/markdown": [
       "'K = Kv + Kvv = 11.52 = 6.94 + 4.58'"
      ],
      "text/plain": [
       "[1] \"K = Kv + Kvv = 11.52 = 6.94 + 4.58\""
      ]
     },
     "metadata": {},
     "output_type": "display_data"
    },
    {
     "data": {
      "text/html": [
       "'az átlagos felbontás'"
      ],
      "text/latex": [
       "'az átlagos felbontás'"
      ],
      "text/markdown": [
       "'az átlagos felbontás'"
      ],
      "text/plain": [
       "[1] \"az átlagos felbontás\""
      ]
     },
     "metadata": {},
     "output_type": "display_data"
    },
    {
     "data": {
      "text/html": [
       "'K = Kv + Kvv = 11.52 = 7.25 + 4.27'"
      ],
      "text/latex": [
       "'K = Kv + Kvv = 11.52 = 7.25 + 4.27'"
      ],
      "text/markdown": [
       "'K = Kv + Kvv = 11.52 = 7.25 + 4.27'"
      ],
      "text/plain": [
       "[1] \"K = Kv + Kvv = 11.52 = 7.25 + 4.27\""
      ]
     },
     "metadata": {},
     "output_type": "display_data"
    }
   ],
   "source": [
    "paste(\"a másik felbontás\")\n",
    "vitkif<-sum(b0*v1)/sum(b0)\n",
    "Kv2<-vitkif-V0\n",
    "Kvv2<-V1-vitkif\n",
    "paste(sprintf(\"K = Kv + Kvv = %.2f = %.2f + %.2f\",K,Kv2,Kvv2))\n",
    "paste(\"az átlagos felbontás\")\n",
    "paste(sprintf(\"K = Kv + Kvv = %.2f = %.2f + %.2f\",K,0.5*(Kv2+Kv),0.5*(Kvv2+Kvv)))"
   ]
  }
 ],
 "metadata": {
  "hide_input": false,
  "kernelspec": {
   "display_name": "R",
   "language": "R",
   "name": "ir"
  },
  "language_info": {
   "codemirror_mode": "r",
   "file_extension": ".r",
   "mimetype": "text/x-r-source",
   "name": "R",
   "pygments_lexer": "r",
   "version": "3.3.2"
  }
 },
 "nbformat": 4,
 "nbformat_minor": 2
}
