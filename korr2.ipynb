{
 "cells": [
  {
   "cell_type": "code",
   "execution_count": 1,
   "metadata": {},
   "outputs": [
    {
     "data": {
      "text/html": [
       "<script>\n",
       "code_show=true; \n",
       "function code_toggle() {\n",
       " if (code_show){\n",
       " $('div.input').hide();\n",
       " } else {\n",
       " $('div.input').show();\n",
       " }\n",
       " code_show = !code_show\n",
       "} \n",
       "$( document ).ready(code_toggle);\n",
       "</script>\n",
       "To toggle on/off the raw code, click <a href=\"javascript:code_toggle()\">here</a>."
      ],
      "text/plain": [
       "<IPython.core.display.HTML object>"
      ]
     },
     "execution_count": 1,
     "metadata": {},
     "output_type": "execute_result"
    }
   ],
   "source": [
    "from IPython.display import HTML\n",
    "HTML('''<script>\n",
    "code_show=true; \n",
    "function code_toggle() {\n",
    " if (code_show){\n",
    " $('div.input').hide();\n",
    " } else {\n",
    " $('div.input').show();\n",
    " }\n",
    " code_show = !code_show\n",
    "} \n",
    "$( document ).ready(code_toggle);\n",
    "</script>\n",
    "To toggle on/off the raw code, click <a href=\"javascript:code_toggle()\">here</a>.''')"
   ]
  },
  {
   "cell_type": "markdown",
   "metadata": {},
   "source": [
    "$$\n",
    "-1\\le corr(X,Y)=\\frac{cov(X,Y)}{D(X)D(Y)} \\le 1\n",
    "$$\n",
    "<br>\n",
    "$$\n",
    "cov(X,Y)=\\frac{\\sum_i (X_i-\\overline{X})(Y_i-\\overline{Y})}{N}\n",
    "$$\n",
    "<br>\n",
    "$$\n",
    "D^2(X)=\\frac{\\sum_i (X_i-\\overline{X})^2}{N}\n",
    "$$\n",
    "Fontos hogy van iránya is. "
   ]
  },
  {
   "cell_type": "code",
   "execution_count": 3,
   "metadata": {},
   "outputs": [
    {
     "data": {
      "text/html": [
       "<table>\n",
       "<thead><tr><th scope=col>nap</th><th scope=col>egyed</th></tr></thead>\n",
       "<tbody>\n",
       "\t<tr><td>18</td><td>55</td></tr>\n",
       "\t<tr><td>19</td><td>46</td></tr>\n",
       "\t<tr><td>32</td><td>24</td></tr>\n",
       "\t<tr><td>39</td><td>11</td></tr>\n",
       "</tbody>\n",
       "</table>\n"
      ],
      "text/latex": [
       "\\begin{tabular}{r|ll}\n",
       " nap & egyed\\\\\n",
       "\\hline\n",
       "\t 18 & 55\\\\\n",
       "\t 19 & 46\\\\\n",
       "\t 32 & 24\\\\\n",
       "\t 39 & 11\\\\\n",
       "\\end{tabular}\n"
      ],
      "text/markdown": [
       "\n",
       "nap | egyed | \n",
       "|---|---|---|---|\n",
       "| 18 | 55 | \n",
       "| 19 | 46 | \n",
       "| 32 | 24 | \n",
       "| 39 | 11 | \n",
       "\n",
       "\n"
      ],
      "text/plain": [
       "  nap egyed\n",
       "1 18  55   \n",
       "2 19  46   \n",
       "3 32  24   \n",
       "4 39  11   "
      ]
     },
     "metadata": {},
     "output_type": "display_data"
    }
   ],
   "source": [
    "tbl<-read.table('./korr2.csv',header = F)\n",
    "N<-dim(tbl)[1]\n",
    "s1=\"nap\"\n",
    "s2=\"egyed\"\n",
    "colnames(tbl)=c(s1,s2)\n",
    "tbl"
   ]
  },
  {
   "cell_type": "code",
   "execution_count": 2,
   "metadata": {},
   "outputs": [
    {
     "data": {
      "text/html": [
       "<span style=white-space:pre-wrap>'átlagok:  27   34'</span>"
      ],
      "text/latex": [
       "'átlagok:  27   34'"
      ],
      "text/markdown": [
       "<span style=white-space:pre-wrap>'átlagok:  27   34'</span>"
      ],
      "text/plain": [
       "[1] \"átlagok:  27   34\""
      ]
     },
     "metadata": {},
     "output_type": "display_data"
    }
   ],
   "source": [
    "m1<-mean(tbl[,1])\n",
    "m2<-mean(tbl[,2])\n",
    "paste(\"átlagok: \",m1,\" \",m2)"
   ]
  },
  {
   "cell_type": "code",
   "execution_count": 4,
   "metadata": {},
   "outputs": [
    {
     "data": {
      "text/html": [
       "<table>\n",
       "<thead><tr><th scope=col>nap-átlag</th><th scope=col>egyed-átlag</th><th scope=col>(nap-átlag)^2</th><th scope=col>(egyed-átlag)^2</th><th scope=col>szorzat</th></tr></thead>\n",
       "<tbody>\n",
       "\t<tr><td>-9  </td><td> 21 </td><td> 81 </td><td>441 </td><td>-189</td></tr>\n",
       "\t<tr><td>-8  </td><td> 12 </td><td> 64 </td><td>144 </td><td> -96</td></tr>\n",
       "\t<tr><td> 5  </td><td>-10 </td><td> 25 </td><td>100 </td><td> -50</td></tr>\n",
       "\t<tr><td>12  </td><td>-23 </td><td>144 </td><td>529 </td><td>-276</td></tr>\n",
       "</tbody>\n",
       "</table>\n"
      ],
      "text/latex": [
       "\\begin{tabular}{lllll}\n",
       " nap-átlag & egyed-átlag & (nap-átlag)\\textasciicircum{}2 & (egyed-átlag)\\textasciicircum{}2 & szorzat\\\\\n",
       "\\hline\n",
       "\t -9   &  21  &  81  & 441  & -189\\\\\n",
       "\t -8   &  12  &  64  & 144  &  -96\\\\\n",
       "\t  5   & -10  &  25  & 100  &  -50\\\\\n",
       "\t 12   & -23  & 144  & 529  & -276\\\\\n",
       "\\end{tabular}\n"
      ],
      "text/markdown": [
       "\n",
       "nap-átlag | egyed-átlag | (nap-átlag)^2 | (egyed-átlag)^2 | szorzat | \n",
       "|---|---|---|---|\n",
       "| -9   |  21  |  81  | 441  | -189 | \n",
       "| -8   |  12  |  64  | 144  |  -96 | \n",
       "|  5   | -10  |  25  | 100  |  -50 | \n",
       "| 12   | -23  | 144  | 529  | -276 | \n",
       "\n",
       "\n"
      ],
      "text/plain": [
       "     nap-átlag egyed-átlag (nap-átlag)^2 (egyed-átlag)^2 szorzat\n",
       "[1,] -9         21          81           441             -189   \n",
       "[2,] -8         12          64           144              -96   \n",
       "[3,]  5        -10          25           100              -50   \n",
       "[4,] 12        -23         144           529             -276   "
      ]
     },
     "metadata": {},
     "output_type": "display_data"
    }
   ],
   "source": [
    "elteres1=tbl[,1]-m1\n",
    "elteres2=tbl[,2]-m2\n",
    "elteres1sq=elteres1^2\n",
    "elteres2sq=elteres2^2\n",
    "szorzat=elteres1*elteres2\n",
    "szamolas=cbind(elteres1,elteres2,elteres1sq,elteres2sq,szorzat)\n",
    "colnames(szamolas)=c(sprintf(\"%s-átlag\",s1),sprintf(\"%s-átlag\",s2),\n",
    "                     sprintf(\"(%s-átlag)^2\",s1),sprintf(\"(%s-átlag)^2\",s2),\n",
    "                     \"szorzat\")\n",
    "szamolas"
   ]
  },
  {
   "cell_type": "code",
   "execution_count": 5,
   "metadata": {},
   "outputs": [
    {
     "data": {
      "text/html": [
       "<span style=white-space:pre-wrap>'D(nap)=     8.86002257333467'</span>"
      ],
      "text/latex": [
       "'D(nap)=     8.86002257333467'"
      ],
      "text/markdown": [
       "<span style=white-space:pre-wrap>'D(nap)=     8.86002257333467'</span>"
      ],
      "text/plain": [
       "[1] \"D(nap)=     8.86002257333467\""
      ]
     },
     "metadata": {},
     "output_type": "display_data"
    },
    {
     "data": {
      "text/html": [
       "<span style=white-space:pre-wrap>'D(egyed)=     17.4212513901843'</span>"
      ],
      "text/latex": [
       "'D(egyed)=     17.4212513901843'"
      ],
      "text/markdown": [
       "<span style=white-space:pre-wrap>'D(egyed)=     17.4212513901843'</span>"
      ],
      "text/plain": [
       "[1] \"D(egyed)=     17.4212513901843\""
      ]
     },
     "metadata": {},
     "output_type": "display_data"
    },
    {
     "data": {
      "text/html": [
       "<span style=white-space:pre-wrap>'cov(nap,egyed)=    -152.75'</span>"
      ],
      "text/latex": [
       "'cov(nap,egyed)=    -152.75'"
      ],
      "text/markdown": [
       "<span style=white-space:pre-wrap>'cov(nap,egyed)=    -152.75'</span>"
      ],
      "text/plain": [
       "[1] \"cov(nap,egyed)=    -152.75\""
      ]
     },
     "metadata": {},
     "output_type": "display_data"
    },
    {
     "data": {
      "text/html": [
       "<span style=white-space:pre-wrap>'corr(nap,egyed)=    -0.989616762295127'</span>"
      ],
      "text/latex": [
       "'corr(nap,egyed)=    -0.989616762295127'"
      ],
      "text/markdown": [
       "<span style=white-space:pre-wrap>'corr(nap,egyed)=    -0.989616762295127'</span>"
      ],
      "text/plain": [
       "[1] \"corr(nap,egyed)=    -0.989616762295127\""
      ]
     },
     "metadata": {},
     "output_type": "display_data"
    }
   ],
   "source": [
    "d1=sqrt(mean(elteres1sq))\n",
    "d2=sqrt(mean(elteres2sq))\n",
    "cv=mean(elteres1*elteres2)\n",
    "paste(sprintf(\"D(%s)=    \",s1),d1)\n",
    "paste(sprintf(\"D(%s)=    \",s2),d2)\n",
    "paste(sprintf(\"cov(%s,%s)=   \",s1,s2),cv)\n",
    "cr=cv/(d1*d2)\n",
    "paste(sprintf(\"corr(%s,%s)=   \",s1,s2),cr)"
   ]
  },
  {
   "cell_type": "code",
   "execution_count": null,
   "metadata": {},
   "outputs": [],
   "source": []
  }
 ],
 "metadata": {
  "kernelspec": {
   "display_name": "R",
   "language": "R",
   "name": "ir"
  },
  "language_info": {
   "codemirror_mode": "r",
   "file_extension": ".r",
   "mimetype": "text/x-r-source",
   "name": "R",
   "pygments_lexer": "r",
   "version": "3.3.2"
  }
 },
 "nbformat": 4,
 "nbformat_minor": 2
}
