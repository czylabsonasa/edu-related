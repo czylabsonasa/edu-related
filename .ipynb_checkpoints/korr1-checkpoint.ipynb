{
 "cells": [
  {
   "cell_type": "code",
   "execution_count": 1,
   "metadata": {},
   "outputs": [
    {
     "data": {
      "text/html": [
       "<script>\n",
       "code_show=true; \n",
       "function code_toggle() {\n",
       " if (code_show){\n",
       " $('div.input').hide();\n",
       " } else {\n",
       " $('div.input').show();\n",
       " }\n",
       " code_show = !code_show\n",
       "} \n",
       "$( document ).ready(code_toggle);\n",
       "</script>\n",
       "To toggle on/off the raw code, click <a href=\"javascript:code_toggle()\">here</a>."
      ],
      "text/plain": [
       "<IPython.core.display.HTML object>"
      ]
     },
     "execution_count": 1,
     "metadata": {},
     "output_type": "execute_result"
    }
   ],
   "source": [
    "from IPython.display import HTML\n",
    "HTML('''<script>\n",
    "code_show=true; \n",
    "function code_toggle() {\n",
    " if (code_show){\n",
    " $('div.input').hide();\n",
    " } else {\n",
    " $('div.input').show();\n",
    " }\n",
    " code_show = !code_show\n",
    "} \n",
    "$( document ).ready(code_toggle);\n",
    "</script>\n",
    "To toggle on/off the raw code, click <a href=\"javascript:code_toggle()\">here</a>.''')"
   ]
  },
  {
   "cell_type": "markdown",
   "metadata": {},
   "source": [
    "$$\n",
    "-1\\le corr(X,Y)=\\frac{cov(X,Y)}{D(X)D(Y)} \\le 1\n",
    "$$\n",
    "<br>\n",
    "$$\n",
    "cov(X,Y)=\\frac{\\sum_i (X_i-\\overline{X})(Y_i-\\overline{Y})}{N}\n",
    "$$\n",
    "<br>\n",
    "$$\n",
    "D^2(X)=\\frac{\\sum_i (X_i-\\overline{X})^2}{N}\n",
    "$$\n",
    "Fontos hogy van iránya is. "
   ]
  },
  {
   "cell_type": "code",
   "execution_count": 6,
   "metadata": {},
   "outputs": [
    {
     "data": {
      "text/html": [
       "<table>\n",
       "<thead><tr><th scope=col>kezdő</th><th scope=col>jelenlegi</th></tr></thead>\n",
       "<tbody>\n",
       "\t<tr><td> 60</td><td> 70</td></tr>\n",
       "\t<tr><td> 65</td><td> 90</td></tr>\n",
       "\t<tr><td> 90</td><td>110</td></tr>\n",
       "\t<tr><td>150</td><td>170</td></tr>\n",
       "\t<tr><td>100</td><td>110</td></tr>\n",
       "</tbody>\n",
       "</table>\n"
      ],
      "text/latex": [
       "\\begin{tabular}{r|ll}\n",
       " kezdő & jelenlegi\\\\\n",
       "\\hline\n",
       "\t  60 &  70\\\\\n",
       "\t  65 &  90\\\\\n",
       "\t  90 & 110\\\\\n",
       "\t 150 & 170\\\\\n",
       "\t 100 & 110\\\\\n",
       "\\end{tabular}\n"
      ],
      "text/markdown": [
       "\n",
       "kezdő | jelenlegi | \n",
       "|---|---|---|---|---|\n",
       "|  60 |  70 | \n",
       "|  65 |  90 | \n",
       "|  90 | 110 | \n",
       "| 150 | 170 | \n",
       "| 100 | 110 | \n",
       "\n",
       "\n"
      ],
      "text/plain": [
       "  kezdő jelenlegi\n",
       "1  60    70      \n",
       "2  65    90      \n",
       "3  90   110      \n",
       "4 150   170      \n",
       "5 100   110      "
      ]
     },
     "metadata": {},
     "output_type": "display_data"
    }
   ],
   "source": [
    "tbl<-read.table('./korr1.csv',header = F)\n",
    "N<-dim(tbl)[1]\n",
    "s1=\"kezdő\"\n",
    "s2=\"jelenlegi\"\n",
    "colnames(tbl)=c(s1,s2)\n",
    "tbl"
   ]
  },
  {
   "cell_type": "code",
   "execution_count": 3,
   "metadata": {},
   "outputs": [
    {
     "data": {
      "text/html": [
       "<span style=white-space:pre-wrap>'átlagok:  93   110'</span>"
      ],
      "text/latex": [
       "'átlagok:  93   110'"
      ],
      "text/markdown": [
       "<span style=white-space:pre-wrap>'átlagok:  93   110'</span>"
      ],
      "text/plain": [
       "[1] \"átlagok:  93   110\""
      ]
     },
     "metadata": {},
     "output_type": "display_data"
    }
   ],
   "source": [
    "m1<-mean(tbl[,1])\n",
    "m2<-mean(tbl[,2])\n",
    "paste(\"átlagok: \",m1,\" \",m2)"
   ]
  },
  {
   "cell_type": "code",
   "execution_count": 8,
   "metadata": {},
   "outputs": [
    {
     "data": {
      "text/html": [
       "<table>\n",
       "<thead><tr><th scope=col>kezdő-átlag</th><th scope=col>jelenlegi-átlag</th><th scope=col>(kezdő-átlag)^2</th><th scope=col>(jelenlegi-átlag)^2</th><th scope=col>szorzat</th></tr></thead>\n",
       "<tbody>\n",
       "\t<tr><td>-33 </td><td>-40 </td><td>1089</td><td>1600</td><td>1320</td></tr>\n",
       "\t<tr><td>-28 </td><td>-20 </td><td> 784</td><td> 400</td><td> 560</td></tr>\n",
       "\t<tr><td> -3 </td><td>  0 </td><td>   9</td><td>   0</td><td>   0</td></tr>\n",
       "\t<tr><td> 57 </td><td> 60 </td><td>3249</td><td>3600</td><td>3420</td></tr>\n",
       "\t<tr><td>  7 </td><td>  0 </td><td>  49</td><td>   0</td><td>   0</td></tr>\n",
       "</tbody>\n",
       "</table>\n"
      ],
      "text/latex": [
       "\\begin{tabular}{lllll}\n",
       " kezdő-átlag & jelenlegi-átlag & (kezdő-átlag)\\textasciicircum{}2 & (jelenlegi-átlag)\\textasciicircum{}2 & szorzat\\\\\n",
       "\\hline\n",
       "\t -33  & -40  & 1089 & 1600 & 1320\\\\\n",
       "\t -28  & -20  &  784 &  400 &  560\\\\\n",
       "\t  -3  &   0  &    9 &    0 &    0\\\\\n",
       "\t  57  &  60  & 3249 & 3600 & 3420\\\\\n",
       "\t   7  &   0  &   49 &    0 &    0\\\\\n",
       "\\end{tabular}\n"
      ],
      "text/markdown": [
       "\n",
       "kezdő-átlag | jelenlegi-átlag | (kezdő-átlag)^2 | (jelenlegi-átlag)^2 | szorzat | \n",
       "|---|---|---|---|---|\n",
       "| -33  | -40  | 1089 | 1600 | 1320 | \n",
       "| -28  | -20  |  784 |  400 |  560 | \n",
       "|  -3  |   0  |    9 |    0 |    0 | \n",
       "|  57  |  60  | 3249 | 3600 | 3420 | \n",
       "|   7  |   0  |   49 |    0 |    0 | \n",
       "\n",
       "\n"
      ],
      "text/plain": [
       "     kezdő-átlag jelenlegi-átlag (kezdő-átlag)^2 (jelenlegi-átlag)^2 szorzat\n",
       "[1,] -33         -40             1089            1600                1320   \n",
       "[2,] -28         -20              784             400                 560   \n",
       "[3,]  -3           0                9               0                   0   \n",
       "[4,]  57          60             3249            3600                3420   \n",
       "[5,]   7           0               49               0                   0   "
      ]
     },
     "metadata": {},
     "output_type": "display_data"
    }
   ],
   "source": [
    "elteres1=tbl[,1]-m1\n",
    "elteres2=tbl[,2]-m2\n",
    "elteres1sq=elteres1^2\n",
    "elteres2sq=elteres2^2\n",
    "szorzat=elteres1*elteres2\n",
    "szamolas=cbind(elteres1,elteres2,elteres1sq,elteres2sq,szorzat)\n",
    "colnames(szamolas)=c(sprintf(\"%s-átlag\",s1),sprintf(\"%s-átlag\",s2),\n",
    "                     sprintf(\"(%s-átlag)^2\",s1),sprintf(\"(%s-átlag)^2\",s2),\n",
    "                     \"szorzat\")\n",
    "szamolas"
   ]
  },
  {
   "cell_type": "code",
   "execution_count": 9,
   "metadata": {},
   "outputs": [
    {
     "data": {
      "text/html": [
       "<span style=white-space:pre-wrap>'D(kezdő)=     32.1869538788622'</span>"
      ],
      "text/latex": [
       "'D(kezdő)=     32.1869538788622'"
      ],
      "text/markdown": [
       "<span style=white-space:pre-wrap>'D(kezdő)=     32.1869538788622'</span>"
      ],
      "text/plain": [
       "[1] \"D(kezdő)=     32.1869538788622\""
      ]
     },
     "metadata": {},
     "output_type": "display_data"
    },
    {
     "data": {
      "text/html": [
       "<span style=white-space:pre-wrap>'D(jelenlegi)=     33.466401061363'</span>"
      ],
      "text/latex": [
       "'D(jelenlegi)=     33.466401061363'"
      ],
      "text/markdown": [
       "<span style=white-space:pre-wrap>'D(jelenlegi)=     33.466401061363'</span>"
      ],
      "text/plain": [
       "[1] \"D(jelenlegi)=     33.466401061363\""
      ]
     },
     "metadata": {},
     "output_type": "display_data"
    },
    {
     "data": {
      "text/html": [
       "<span style=white-space:pre-wrap>'cov(kezdő,jelenlegi)=    1060'</span>"
      ],
      "text/latex": [
       "'cov(kezdő,jelenlegi)=    1060'"
      ],
      "text/markdown": [
       "<span style=white-space:pre-wrap>'cov(kezdő,jelenlegi)=    1060'</span>"
      ],
      "text/plain": [
       "[1] \"cov(kezdő,jelenlegi)=    1060\""
      ]
     },
     "metadata": {},
     "output_type": "display_data"
    },
    {
     "data": {
      "text/html": [
       "<span style=white-space:pre-wrap>'corr(kezdő,jelenlegi)=    0.984049570722569'</span>"
      ],
      "text/latex": [
       "'corr(kezdő,jelenlegi)=    0.984049570722569'"
      ],
      "text/markdown": [
       "<span style=white-space:pre-wrap>'corr(kezdő,jelenlegi)=    0.984049570722569'</span>"
      ],
      "text/plain": [
       "[1] \"corr(kezdő,jelenlegi)=    0.984049570722569\""
      ]
     },
     "metadata": {},
     "output_type": "display_data"
    }
   ],
   "source": [
    "d1=sqrt(mean(elteres1sq))\n",
    "d2=sqrt(mean(elteres2sq))\n",
    "cv=mean(elteres1*elteres2)\n",
    "paste(sprintf(\"D(%s)=    \",s1),d1)\n",
    "paste(sprintf(\"D(%s)=    \",s2),d2)\n",
    "paste(sprintf(\"cov(%s,%s)=   \",s1,s2),cv)\n",
    "cr=cv/(d1*d2)\n",
    "paste(sprintf(\"corr(%s,%s)=   \",s1,s2),cr)\n"
   ]
  },
  {
   "cell_type": "code",
   "execution_count": null,
   "metadata": {},
   "outputs": [],
   "source": []
  }
 ],
 "metadata": {
  "kernelspec": {
   "display_name": "R",
   "language": "R",
   "name": "ir"
  },
  "language_info": {
   "codemirror_mode": "r",
   "file_extension": ".r",
   "mimetype": "text/x-r-source",
   "name": "R",
   "pygments_lexer": "r",
   "version": "3.3.2"
  }
 },
 "nbformat": 4,
 "nbformat_minor": 2
}
