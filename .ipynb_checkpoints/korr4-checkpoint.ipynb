{
 "cells": [
  {
   "cell_type": "code",
   "execution_count": 1,
   "metadata": {},
   "outputs": [
    {
     "data": {
      "text/html": [
       "<script>\n",
       "code_show=true; \n",
       "function code_toggle() {\n",
       " if (code_show){\n",
       " $('div.input').hide();\n",
       " } else {\n",
       " $('div.input').show();\n",
       " }\n",
       " code_show = !code_show\n",
       "} \n",
       "$( document ).ready(code_toggle);\n",
       "</script>\n",
       "To toggle on/off the raw code, click <a href=\"javascript:code_toggle()\">here</a>."
      ],
      "text/plain": [
       "<IPython.core.display.HTML object>"
      ]
     },
     "execution_count": 1,
     "metadata": {},
     "output_type": "execute_result"
    }
   ],
   "source": [
    "from IPython.display import HTML\n",
    "HTML('''<script>\n",
    "code_show=true; \n",
    "function code_toggle() {\n",
    " if (code_show){\n",
    " $('div.input').hide();\n",
    " } else {\n",
    " $('div.input').show();\n",
    " }\n",
    " code_show = !code_show\n",
    "} \n",
    "$( document ).ready(code_toggle);\n",
    "</script>\n",
    "To toggle on/off the raw code, click <a href=\"javascript:code_toggle()\">here</a>.''')"
   ]
  },
  {
   "cell_type": "markdown",
   "metadata": {},
   "source": [
    "$$\n",
    "-1\\le corr(X,Y)=\\frac{cov(X,Y)}{D(X)D(Y)} \\le 1\n",
    "$$\n",
    "<br>\n",
    "$$\n",
    "cov(X,Y)=\\frac{\\sum_i (X_i-\\overline{X})(Y_i-\\overline{Y})}{N}\n",
    "$$\n",
    "<br>\n",
    "$$\n",
    "D^2(X)=\\frac{\\sum_i (X_i-\\overline{X})^2}{N}\n",
    "$$\n",
    "Fontos hogy van iránya is. "
   ]
  },
  {
   "cell_type": "code",
   "execution_count": 2,
   "metadata": {},
   "outputs": [
    {
     "data": {
      "text/html": [
       "<table>\n",
       "<thead><tr><th scope=col>kor</th><th scope=col>cukor</th></tr></thead>\n",
       "<tbody>\n",
       "\t<tr><td>43</td><td>99</td></tr>\n",
       "\t<tr><td>21</td><td>65</td></tr>\n",
       "\t<tr><td>25</td><td>79</td></tr>\n",
       "\t<tr><td>42</td><td>75</td></tr>\n",
       "\t<tr><td>57</td><td>87</td></tr>\n",
       "\t<tr><td>59</td><td>81</td></tr>\n",
       "</tbody>\n",
       "</table>\n"
      ],
      "text/latex": [
       "\\begin{tabular}{r|ll}\n",
       " kor & cukor\\\\\n",
       "\\hline\n",
       "\t 43 & 99\\\\\n",
       "\t 21 & 65\\\\\n",
       "\t 25 & 79\\\\\n",
       "\t 42 & 75\\\\\n",
       "\t 57 & 87\\\\\n",
       "\t 59 & 81\\\\\n",
       "\\end{tabular}\n"
      ],
      "text/markdown": [
       "\n",
       "kor | cukor | \n",
       "|---|---|---|---|---|---|\n",
       "| 43 | 99 | \n",
       "| 21 | 65 | \n",
       "| 25 | 79 | \n",
       "| 42 | 75 | \n",
       "| 57 | 87 | \n",
       "| 59 | 81 | \n",
       "\n",
       "\n"
      ],
      "text/plain": [
       "  kor cukor\n",
       "1 43  99   \n",
       "2 21  65   \n",
       "3 25  79   \n",
       "4 42  75   \n",
       "5 57  87   \n",
       "6 59  81   "
      ]
     },
     "metadata": {},
     "output_type": "display_data"
    }
   ],
   "source": [
    "tbl<-read.table('./korr4.csv',header = F)\n",
    "N<-dim(tbl)[1]\n",
    "s1=\"kor\"\n",
    "s2=\"cukor\"\n",
    "colnames(tbl)=c(s1,s2)\n",
    "tbl"
   ]
  },
  {
   "cell_type": "code",
   "execution_count": 3,
   "metadata": {},
   "outputs": [
    {
     "data": {
      "text/html": [
       "<span style=white-space:pre-wrap>'átlagok:  41.1666666666667   81'</span>"
      ],
      "text/latex": [
       "'átlagok:  41.1666666666667   81'"
      ],
      "text/markdown": [
       "<span style=white-space:pre-wrap>'átlagok:  41.1666666666667   81'</span>"
      ],
      "text/plain": [
       "[1] \"átlagok:  41.1666666666667   81\""
      ]
     },
     "metadata": {},
     "output_type": "display_data"
    }
   ],
   "source": [
    "m1<-mean(tbl[,1])\n",
    "m2<-mean(tbl[,2])\n",
    "paste(\"átlagok: \",m1,\" \",m2)"
   ]
  },
  {
   "cell_type": "code",
   "execution_count": 4,
   "metadata": {},
   "outputs": [
    {
     "data": {
      "text/html": [
       "<table>\n",
       "<thead><tr><th scope=col>kor-átlag</th><th scope=col>cukor-átlag</th><th scope=col>(kor-átlag)^2</th><th scope=col>(cukor-átlag)^2</th><th scope=col>szorzat</th></tr></thead>\n",
       "<tbody>\n",
       "\t<tr><td>  1.8333333</td><td> 18        </td><td>  3.3611111</td><td>324        </td><td> 33.00000  </td></tr>\n",
       "\t<tr><td>-20.1666667</td><td>-16        </td><td>406.6944444</td><td>256        </td><td>322.66667  </td></tr>\n",
       "\t<tr><td>-16.1666667</td><td> -2        </td><td>261.3611111</td><td>  4        </td><td> 32.33333  </td></tr>\n",
       "\t<tr><td>  0.8333333</td><td> -6        </td><td>  0.6944444</td><td> 36        </td><td> -5.00000  </td></tr>\n",
       "\t<tr><td> 15.8333333</td><td>  6        </td><td>250.6944444</td><td> 36        </td><td> 95.00000  </td></tr>\n",
       "\t<tr><td> 17.8333333</td><td>  0        </td><td>318.0277778</td><td>  0        </td><td>  0.00000  </td></tr>\n",
       "</tbody>\n",
       "</table>\n"
      ],
      "text/latex": [
       "\\begin{tabular}{lllll}\n",
       " kor-átlag & cukor-átlag & (kor-átlag)\\textasciicircum{}2 & (cukor-átlag)\\textasciicircum{}2 & szorzat\\\\\n",
       "\\hline\n",
       "\t   1.8333333 &  18         &   3.3611111 & 324         &  33.00000  \\\\\n",
       "\t -20.1666667 & -16         & 406.6944444 & 256         & 322.66667  \\\\\n",
       "\t -16.1666667 &  -2         & 261.3611111 &   4         &  32.33333  \\\\\n",
       "\t   0.8333333 &  -6         &   0.6944444 &  36         &  -5.00000  \\\\\n",
       "\t  15.8333333 &   6         & 250.6944444 &  36         &  95.00000  \\\\\n",
       "\t  17.8333333 &   0         & 318.0277778 &   0         &   0.00000  \\\\\n",
       "\\end{tabular}\n"
      ],
      "text/markdown": [
       "\n",
       "kor-átlag | cukor-átlag | (kor-átlag)^2 | (cukor-átlag)^2 | szorzat | \n",
       "|---|---|---|---|---|---|\n",
       "|   1.8333333 |  18         |   3.3611111 | 324         |  33.00000   | \n",
       "| -20.1666667 | -16         | 406.6944444 | 256         | 322.66667   | \n",
       "| -16.1666667 |  -2         | 261.3611111 |   4         |  32.33333   | \n",
       "|   0.8333333 |  -6         |   0.6944444 |  36         |  -5.00000   | \n",
       "|  15.8333333 |   6         | 250.6944444 |  36         |  95.00000   | \n",
       "|  17.8333333 |   0         | 318.0277778 |   0         |   0.00000   | \n",
       "\n",
       "\n"
      ],
      "text/plain": [
       "     kor-átlag   cukor-átlag (kor-átlag)^2 (cukor-átlag)^2 szorzat  \n",
       "[1,]   1.8333333  18           3.3611111   324              33.00000\n",
       "[2,] -20.1666667 -16         406.6944444   256             322.66667\n",
       "[3,] -16.1666667  -2         261.3611111     4              32.33333\n",
       "[4,]   0.8333333  -6           0.6944444    36              -5.00000\n",
       "[5,]  15.8333333   6         250.6944444    36              95.00000\n",
       "[6,]  17.8333333   0         318.0277778     0               0.00000"
      ]
     },
     "metadata": {},
     "output_type": "display_data"
    }
   ],
   "source": [
    "elteres1=tbl[,1]-m1\n",
    "elteres2=tbl[,2]-m2\n",
    "elteres1sq=elteres1^2\n",
    "elteres2sq=elteres2^2\n",
    "szorzat=elteres1*elteres2\n",
    "szamolas=cbind(elteres1,elteres2,elteres1sq,elteres2sq,szorzat)\n",
    "colnames(szamolas)=c(sprintf(\"%s-átlag\",s1),sprintf(\"%s-átlag\",s2),\n",
    "                     sprintf(\"(%s-átlag)^2\",s1),sprintf(\"(%s-átlag)^2\",s2),\n",
    "                     \"szorzat\")\n",
    "szamolas"
   ]
  },
  {
   "cell_type": "code",
   "execution_count": 5,
   "metadata": {},
   "outputs": [
    {
     "data": {
      "text/html": [
       "<span style=white-space:pre-wrap>'D(kor)=     14.3807355707403'</span>"
      ],
      "text/latex": [
       "'D(kor)=     14.3807355707403'"
      ],
      "text/markdown": [
       "<span style=white-space:pre-wrap>'D(kor)=     14.3807355707403'</span>"
      ],
      "text/plain": [
       "[1] \"D(kor)=     14.3807355707403\""
      ]
     },
     "metadata": {},
     "output_type": "display_data"
    },
    {
     "data": {
      "text/html": [
       "<span style=white-space:pre-wrap>'D(cukor)=     10.4562580942387'</span>"
      ],
      "text/latex": [
       "'D(cukor)=     10.4562580942387'"
      ],
      "text/markdown": [
       "<span style=white-space:pre-wrap>'D(cukor)=     10.4562580942387'</span>"
      ],
      "text/plain": [
       "[1] \"D(cukor)=     10.4562580942387\""
      ]
     },
     "metadata": {},
     "output_type": "display_data"
    },
    {
     "data": {
      "text/html": [
       "<span style=white-space:pre-wrap>'cov(kor,cukor)=    79.6666666666667'</span>"
      ],
      "text/latex": [
       "'cov(kor,cukor)=    79.6666666666667'"
      ],
      "text/markdown": [
       "<span style=white-space:pre-wrap>'cov(kor,cukor)=    79.6666666666667'</span>"
      ],
      "text/plain": [
       "[1] \"cov(kor,cukor)=    79.6666666666667\""
      ]
     },
     "metadata": {},
     "output_type": "display_data"
    },
    {
     "data": {
      "text/html": [
       "<span style=white-space:pre-wrap>'corr(kor,cukor)=    0.529808901890174'</span>"
      ],
      "text/latex": [
       "'corr(kor,cukor)=    0.529808901890174'"
      ],
      "text/markdown": [
       "<span style=white-space:pre-wrap>'corr(kor,cukor)=    0.529808901890174'</span>"
      ],
      "text/plain": [
       "[1] \"corr(kor,cukor)=    0.529808901890174\""
      ]
     },
     "metadata": {},
     "output_type": "display_data"
    }
   ],
   "source": [
    "d1=sqrt(mean(elteres1sq))\n",
    "d2=sqrt(mean(elteres2sq))\n",
    "cv=mean(elteres1*elteres2)\n",
    "paste(sprintf(\"D(%s)=    \",s1),d1)\n",
    "paste(sprintf(\"D(%s)=    \",s2),d2)\n",
    "paste(sprintf(\"cov(%s,%s)=   \",s1,s2),cv)\n",
    "cr=cv/(d1*d2)\n",
    "paste(sprintf(\"corr(%s,%s)=   \",s1,s2),cr)"
   ]
  },
  {
   "cell_type": "code",
   "execution_count": 6,
   "metadata": {},
   "outputs": [
    {
     "data": {
      "image/png": "[encoded data removed]",
      "text/plain": [
       "plot without title"
      ]
     },
     "metadata": {},
     "output_type": "display_data"
    }
   ],
   "source": [
    "plot(tbl[,1],tbl[,2])"
   ]
  },
  {
   "cell_type": "code",
   "execution_count": null,
   "metadata": {},
   "outputs": [],
   "source": []
  }
 ],
 "metadata": {
  "kernelspec": {
   "display_name": "R",
   "language": "R",
   "name": "ir"
  },
  "language_info": {
   "codemirror_mode": "r",
   "file_extension": ".r",
   "mimetype": "text/x-r-source",
   "name": "R",
   "pygments_lexer": "r",
   "version": "3.3.2"
  }
 },
 "nbformat": 4,
 "nbformat_minor": 2
}
