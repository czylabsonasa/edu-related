{
 "cells": [
  {
   "cell_type": "code",
   "execution_count": 1,
   "metadata": {},
   "outputs": [
    {
     "data": {
      "text/html": [
       "<table>\n",
       "<thead><tr><th></th><th scope=col>felsővez.</th><th scope=col>középvez.</th><th scope=col>beosztott</th><th scope=col>összes</th></tr></thead>\n",
       "<tbody>\n",
       "\t<tr><th scope=row>nő</th><td> 4 </td><td>20 </td><td>176</td><td>200</td></tr>\n",
       "\t<tr><th scope=row>férfi</th><td> 6 </td><td>30 </td><td>264</td><td>300</td></tr>\n",
       "\t<tr><th scope=row>összes</th><td>10 </td><td>50 </td><td>440</td><td>500</td></tr>\n",
       "</tbody>\n",
       "</table>\n"
      ],
      "text/latex": [
       "\\begin{tabular}{r|llll}\n",
       "  & felsővez. & középvez. & beosztott & összes\\\\\n",
       "\\hline\n",
       "\tnő &  4  & 20  & 176 & 200\\\\\n",
       "\tférfi &  6  & 30  & 264 & 300\\\\\n",
       "\tösszes & 10  & 50  & 440 & 500\\\\\n",
       "\\end{tabular}\n"
      ],
      "text/markdown": [
       "\n",
       "| <!--/--> | felsővez. | középvez. | beosztott | összes | \n",
       "|---|---|---|\n",
       "| nő |  4  | 20  | 176 | 200 | \n",
       "| férfi |  6  | 30  | 264 | 300 | \n",
       "| összes | 10  | 50  | 440 | 500 | \n",
       "\n",
       "\n"
      ],
      "text/plain": [
       "       felsővez. középvez. beosztott összes\n",
       "nő      4        20        176       200   \n",
       "férfi   6        30        264       300   \n",
       "összes 10        50        440       500   "
      ]
     },
     "metadata": {},
     "output_type": "display_data"
    }
   ],
   "source": [
    "tbl<-read.table('./asszoc2.csv',header = F)\n",
    "ncol<-dim(tbl)[2]\n",
    "nrow<-dim(tbl)[1]\n",
    "srow<-rowSums(tbl)\n",
    "scol<-colSums(tbl)\n",
    "tbl=cbind(tbl,srow)\n",
    "tbl=rbind(tbl,scol)\n",
    "colnames(tbl)=c(\"felsővez.\",\"középvez.\",\"beosztott\",\"összes\")\n",
    "rownames(tbl)=c(\"nő\",\"férfi\",\"összes\")\n",
    "N<-sum(srow)\n",
    "tbl[nrow+1,ncol+1]<-N\n",
    "tbl"
   ]
  },
  {
   "cell_type": "markdown",
   "metadata": {
    "collapsed": true
   },
   "source": [
    "Cramér-együttható:\n",
    "$$\n",
    "\\chi^2=\\sum_{i,j}\\frac{(f_{i,j}-f^{*}_{i,j})^2}{f^{*}_{i,j}}\n",
    "$$\n",
    "$$\n",
    "C^2=\\frac{\\chi^2}{N\\min(r-1,c-1)}\\hspace 2cm 0\\le C\\le 1\n",
    "$$\n",
    "\n",
    "C: a kapcsolat erőssége $[0,1]$ skálán mérve.<br>\n",
    "* <0.3 gyenge\n",
    "* 0.3 - 0.7 közepes\n",
    "* \\>0.7 erős\n",
    "\n",
    "másképp: ha tudjuk az *egyik* ismérv szerinti értéket, hány százalékkal nő átlagosan a *másik* ismérv szerinti értékről a \"tudásunk\".\n"
   ]
  },
  {
   "cell_type": "markdown",
   "metadata": {},
   "source": [
    "az $f^{*}$ táblázat:\n"
   ]
  },
  {
   "cell_type": "code",
   "execution_count": 2,
   "metadata": {},
   "outputs": [
    {
     "data": {
      "text/html": [
       "<table>\n",
       "<thead><tr><th></th><th scope=col>felsővez.</th><th scope=col>középvez.</th><th scope=col>beosztott</th></tr></thead>\n",
       "<tbody>\n",
       "\t<tr><th scope=row>nő</th><td>4  </td><td>20 </td><td>176</td></tr>\n",
       "\t<tr><th scope=row>férfi</th><td>6  </td><td>30 </td><td>264</td></tr>\n",
       "</tbody>\n",
       "</table>\n"
      ],
      "text/latex": [
       "\\begin{tabular}{r|lll}\n",
       "  & felsővez. & középvez. & beosztott\\\\\n",
       "\\hline\n",
       "\tnő & 4   & 20  & 176\\\\\n",
       "\tférfi & 6   & 30  & 264\\\\\n",
       "\\end{tabular}\n"
      ],
      "text/markdown": [
       "\n",
       "| <!--/--> | felsővez. | középvez. | beosztott | \n",
       "|---|---|\n",
       "| nő | 4   | 20  | 176 | \n",
       "| férfi | 6   | 30  | 264 | \n",
       "\n",
       "\n"
      ],
      "text/plain": [
       "      felsővez. középvez. beosztott\n",
       "nő    4         20        176      \n",
       "férfi 6         30        264      "
      ]
     },
     "metadata": {},
     "output_type": "display_data"
    }
   ],
   "source": [
    "cstbl=tbl\n",
    "for(i in 1:nrow){\n",
    "    for(j in 1:ncol){\n",
    "        cstbl[i,j]<-srow[i]*scol[j]/N\n",
    "    }\n",
    "}\n",
    "cstbl[1:nrow,1:ncol]\n"
   ]
  },
  {
   "cell_type": "markdown",
   "metadata": {},
   "source": [
    "a $\\chi^2$ táblázat:"
   ]
  },
  {
   "cell_type": "code",
   "execution_count": 3,
   "metadata": {},
   "outputs": [
    {
     "data": {
      "text/html": [
       "<table>\n",
       "<thead><tr><th></th><th scope=col>felsővez.</th><th scope=col>középvez.</th><th scope=col>beosztott</th></tr></thead>\n",
       "<tbody>\n",
       "\t<tr><th scope=row>nő</th><td>0</td><td>0</td><td>0</td></tr>\n",
       "\t<tr><th scope=row>férfi</th><td>0</td><td>0</td><td>0</td></tr>\n",
       "</tbody>\n",
       "</table>\n"
      ],
      "text/latex": [
       "\\begin{tabular}{r|lll}\n",
       "  & felsővez. & középvez. & beosztott\\\\\n",
       "\\hline\n",
       "\tnő & 0 & 0 & 0\\\\\n",
       "\tférfi & 0 & 0 & 0\\\\\n",
       "\\end{tabular}\n"
      ],
      "text/markdown": [
       "\n",
       "| <!--/--> | felsővez. | középvez. | beosztott | \n",
       "|---|---|\n",
       "| nő | 0 | 0 | 0 | \n",
       "| férfi | 0 | 0 | 0 | \n",
       "\n",
       "\n"
      ],
      "text/plain": [
       "      felsővez. középvez. beosztott\n",
       "nő    0         0         0        \n",
       "férfi 0         0         0        "
      ]
     },
     "metadata": {},
     "output_type": "display_data"
    }
   ],
   "source": [
    "\n",
    "for(i in 1:nrow){\n",
    "    for(j in 1:ncol){\n",
    "        cstbl[i,j]<-(cstbl[i,j]-tbl[i,j])^2/cstbl[i,j]\n",
    "    }\n",
    "}\n",
    "cstbl[1:nrow,1:ncol]"
   ]
  },
  {
   "cell_type": "code",
   "execution_count": 4,
   "metadata": {},
   "outputs": [
    {
     "name": "stdout",
     "output_type": "stream",
     "text": [
      "[1] C=0.000000\n"
     ]
    }
   ],
   "source": [
    "khi2=sum(cstbl[1:nrow,1:ncol])\n",
    "C=sqrt(khi2/(N*min(nrow-1,ncol-1)))\n",
    "print.noquote(sprintf(\"C=%f\",C))\n"
   ]
  },
  {
   "cell_type": "code",
   "execution_count": null,
   "metadata": {
    "collapsed": true
   },
   "outputs": [],
   "source": []
  }
 ],
 "metadata": {
  "hide_input": false,
  "kernelspec": {
   "display_name": "R",
   "language": "R",
   "name": "ir"
  },
  "language_info": {
   "codemirror_mode": "r",
   "file_extension": ".r",
   "mimetype": "text/x-r-source",
   "name": "R",
   "pygments_lexer": "r",
   "version": "3.3.2"
  }
 },
 "nbformat": 4,
 "nbformat_minor": 2
}
