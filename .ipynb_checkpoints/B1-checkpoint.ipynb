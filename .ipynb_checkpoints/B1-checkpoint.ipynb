{
 "cells": [
  {
   "cell_type": "code",
   "execution_count": 63,
   "metadata": {
    "collapsed": false
   },
   "outputs": [
    {
     "data": {
      "text/html": [
       "<table>\n",
       "<thead><tr><th></th><th scope=col>0-6</th><th scope=col>6-14</th><th scope=col>14 felett</th><th scope=col></th></tr></thead>\n",
       "<tbody>\n",
       "\t<tr><th scope=row>magyar</th><td>182</td><td> 73</td><td>16 </td><td>271</td></tr>\n",
       "\t<tr><th scope=row>külföldi</th><td>173</td><td> 92</td><td>10 </td><td>275</td></tr>\n",
       "\t<tr><th scope=row></th><td>355</td><td>165</td><td>26 </td><td>546</td></tr>\n",
       "</tbody>\n",
       "</table>\n"
      ],
      "text/latex": [
       "\\begin{tabular}{r|llll}\n",
       "  & 0-6 & 6-14 & 14 felett & \\\\\n",
       "\\hline\n",
       "\tmagyar & 182 &  73 & 16  & 271\\\\\n",
       "\tkülföldi & 173 &  92 & 10  & 275\\\\\n",
       "\t & 355 & 165 & 26  & 546\\\\\n",
       "\\end{tabular}\n"
      ],
      "text/markdown": [
       "\n",
       "| <!--/--> | 0-6 | 6-14 | 14 felett |  | \n",
       "|---|---|---|\n",
       "| magyar | 182 |  73 | 16  | 271 | \n",
       "| külföldi | 173 |  92 | 10  | 275 | \n",
       "|  | 355 | 165 | 26  | 546 | \n",
       "\n",
       "\n"
      ],
      "text/plain": [
       "         0-6 6-14 14 felett    \n",
       "magyar   182  73  16        271\n",
       "külföldi 173  92  10        275\n",
       "         355 165  26        546"
      ]
     },
     "metadata": {},
     "output_type": "display_data"
    }
   ],
   "source": [
    "tbl<-read.table('./elso.csv',header = F)\n",
    "tbl=cbind(tbl,rowSums(tbl))\n",
    "tbl=rbind(tbl,colSums(tbl))\n",
    "colnames(tbl)=c(\"0-6\",\"6-14\",\"14 felett\",\"\")\n",
    "rownames(tbl)=c(\"magyar\",\"külföldi\",\"\")\n",
    "tbl\n"
   ]
  },
  {
   "cell_type": "code",
   "execution_count": null,
   "metadata": {
    "collapsed": true
   },
   "outputs": [],
   "source": []
  }
 ],
 "metadata": {
  "kernelspec": {
   "display_name": "R",
   "language": "R",
   "name": "ir"
  },
  "language_info": {
   "codemirror_mode": "r",
   "file_extension": ".r",
   "mimetype": "text/x-r-source",
   "name": "R",
   "pygments_lexer": "r",
   "version": "3.3.2"
  }
 },
 "nbformat": 4,
 "nbformat_minor": 2
}
