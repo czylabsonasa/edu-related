{
 "cells": [
  {
   "cell_type": "code",
   "execution_count": 1,
   "metadata": {
    "collapsed": false
   },
   "outputs": [
    {
     "data": {
      "text/html": [
       "<table>\n",
       "<thead><tr><th></th><th scope=col>felső</th><th scope=col>közép</th><th scope=col>beosztott</th><th scope=col></th></tr></thead>\n",
       "<tbody>\n",
       "\t<tr><th scope=row>nő</th><td> 4 </td><td>20 </td><td>176</td><td>200</td></tr>\n",
       "\t<tr><th scope=row>férfi</th><td> 6 </td><td>30 </td><td>264</td><td>300</td></tr>\n",
       "\t<tr><th scope=row></th><td>10 </td><td>50 </td><td>440</td><td>500</td></tr>\n",
       "</tbody>\n",
       "</table>\n"
      ],
      "text/latex": [
       "\\begin{tabular}{r|llll}\n",
       "  & felső & közép & beosztott & \\\\\n",
       "\\hline\n",
       "\tnő &  4  & 20  & 176 & 200\\\\\n",
       "\tférfi &  6  & 30  & 264 & 300\\\\\n",
       "\t & 10  & 50  & 440 & 500\\\\\n",
       "\\end{tabular}\n"
      ],
      "text/markdown": [
       "\n",
       "| <!--/--> | felső | közép | beosztott |  | \n",
       "|---|---|---|\n",
       "| nő |  4  | 20  | 176 | 200 | \n",
       "| férfi |  6  | 30  | 264 | 300 | \n",
       "|  | 10  | 50  | 440 | 500 | \n",
       "\n",
       "\n"
      ],
      "text/plain": [
       "      felső közép beosztott    \n",
       "nő     4    20    176       200\n",
       "férfi  6    30    264       300\n",
       "      10    50    440       500"
      ]
     },
     "metadata": {},
     "output_type": "display_data"
    }
   ],
   "source": [
    "tbl<-read.table('./masodik.csv',header = F)\n",
    "tbl=cbind(tbl,rowSums(tbl))\n",
    "tbl=rbind(tbl,colSums(tbl))\n",
    "colnames(tbl)=c(\"felső\",\"közép\",\"beosztott\",\"\")\n",
    "rownames(tbl)=c(\"nő\",\"férfi\",\"\")\n",
    "tbl\n"
   ]
  },
  {
   "cell_type": "code",
   "execution_count": null,
   "metadata": {
    "collapsed": true
   },
   "outputs": [],
   "source": []
  }
 ],
 "metadata": {
  "kernelspec": {
   "display_name": "R",
   "language": "R",
   "name": "ir"
  },
  "language_info": {
   "codemirror_mode": "r",
   "file_extension": ".r",
   "mimetype": "text/x-r-source",
   "name": "R",
   "pygments_lexer": "r",
   "version": "3.3.2"
  }
 },
 "nbformat": 4,
 "nbformat_minor": 2
}
