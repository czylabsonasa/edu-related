{
 "cells": [
  {
   "cell_type": "code",
   "execution_count": 1,
   "metadata": {
    "collapsed": false
   },
   "outputs": [
    {
     "data": {
      "text/html": [
       "<table>\n",
       "<thead><tr><th></th><th scope=col>nyugdíj</th><th scope=col>jobbat talált</th><th scope=col>alkalmatlan</th><th scope=col></th></tr></thead>\n",
       "<tbody>\n",
       "\t<tr><th scope=row>férfi</th><td> 60</td><td>70 </td><td>10 </td><td>140</td></tr>\n",
       "\t<tr><th scope=row>nő</th><td> 40</td><td>10 </td><td>10 </td><td> 60</td></tr>\n",
       "\t<tr><th scope=row></th><td>100</td><td>80 </td><td>20 </td><td>200</td></tr>\n",
       "</tbody>\n",
       "</table>\n"
      ],
      "text/latex": [
       "\\begin{tabular}{r|llll}\n",
       "  & nyugdíj & jobbat talált & alkalmatlan & \\\\\n",
       "\\hline\n",
       "\tférfi &  60 & 70  & 10  & 140\\\\\n",
       "\tnő &  40 & 10  & 10  &  60\\\\\n",
       "\t & 100 & 80  & 20  & 200\\\\\n",
       "\\end{tabular}\n"
      ],
      "text/markdown": [
       "\n",
       "| <!--/--> | nyugdíj | jobbat talált | alkalmatlan |  | \n",
       "|---|---|---|\n",
       "| férfi |  60 | 70  | 10  | 140 | \n",
       "| nő |  40 | 10  | 10  |  60 | \n",
       "|  | 100 | 80  | 20  | 200 | \n",
       "\n",
       "\n"
      ],
      "text/plain": [
       "      nyugdíj jobbat talált alkalmatlan    \n",
       "férfi  60     70            10          140\n",
       "nő     40     10            10           60\n",
       "      100     80            20          200"
      ]
     },
     "metadata": {},
     "output_type": "display_data"
    }
   ],
   "source": [
    "tbl<-read.table('./harmadik.csv',header = F)\n",
    "tbl=cbind(tbl,rowSums(tbl))\n",
    "tbl=rbind(tbl,colSums(tbl))\n",
    "colnames(tbl)=c(\"nyugdíj\",\"jobbat talált\",\"alkalmatlan\",\"\")\n",
    "rownames(tbl)=c(\"férfi\",\"nő\",\"\")\n",
    "tbl\n"
   ]
  },
  {
   "cell_type": "code",
   "execution_count": null,
   "metadata": {
    "collapsed": true
   },
   "outputs": [],
   "source": []
  }
 ],
 "metadata": {
  "kernelspec": {
   "display_name": "R",
   "language": "R",
   "name": "ir"
  },
  "language_info": {
   "codemirror_mode": "r",
   "file_extension": ".r",
   "mimetype": "text/x-r-source",
   "name": "R",
   "pygments_lexer": "r",
   "version": "3.3.2"
  }
 },
 "nbformat": 4,
 "nbformat_minor": 2
}
