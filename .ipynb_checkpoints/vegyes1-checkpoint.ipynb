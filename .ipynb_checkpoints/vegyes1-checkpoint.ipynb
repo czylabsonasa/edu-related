{
 "cells": [
  {
   "cell_type": "markdown",
   "metadata": {},
   "source": [
    "$H^2$-együttható:\n",
    "$$\n",
    "H^2=\\frac{SSK}{SST}=1-\\frac{SSB}{SST}\n",
    "$$\n",
    "SST: variancia-jellegű mennyiség, teljes \n",
    "$$\n",
    "SST=\\sum_{i,j} \\left( Y_{i,j}-\\overline{Y}\\right)^2\n",
    "$$\n",
    "SSK: külső eltérés\n",
    "$$\n",
    "SSK=\\sum_i N_i \\left( \\overline{Y_i}-\\overline{Y}\\right)^2\n",
    "$$\n",
    "SSB: belső eltérés\n",
    "$$\n",
    "SSB=\\sum_i \\sum_j \\left( Y_{i,j}-\\overline{Y_i}\\right)^2\n",
    "$$\n",
    "\n",
    "\n",
    "\n",
    "$H^2$: a csoportképző ismérv \"hatása\" a folytonos ismérvre $[0,1]$ skálán mérve.<br>\n",
    "a kapcsolat erőssége.\n",
    "* <0.3 gyenge\n",
    "* 0.3 - 0.7 közepes\n",
    "* \\>0.7 erős\n",
    "\n",
    "* a teljes variancia hány százaléka tulajdonítható a csoportképző ismérvnek, mekkora hányadát magyarázza."
   ]
  },
  {
   "cell_type": "code",
   "execution_count": 2,
   "metadata": {},
   "outputs": [
    {
     "data": {
      "text/html": [
       "<table>\n",
       "<thead><tr><th scope=col>teljesítmény</th><th scope=col>képzettség</th></tr></thead>\n",
       "<tbody>\n",
       "\t<tr><td> 2</td><td>1 </td></tr>\n",
       "\t<tr><td> 3</td><td>1 </td></tr>\n",
       "\t<tr><td> 3</td><td>1 </td></tr>\n",
       "\t<tr><td> 4</td><td>1 </td></tr>\n",
       "\t<tr><td> 7</td><td>2 </td></tr>\n",
       "\t<tr><td> 7</td><td>2 </td></tr>\n",
       "\t<tr><td> 8</td><td>2 </td></tr>\n",
       "\t<tr><td> 8</td><td>2 </td></tr>\n",
       "\t<tr><td> 8</td><td>2 </td></tr>\n",
       "\t<tr><td>10</td><td>2 </td></tr>\n",
       "</tbody>\n",
       "</table>\n"
      ],
      "text/latex": [
       "\\begin{tabular}{r|ll}\n",
       " teljesítmény & képzettség\\\\\n",
       "\\hline\n",
       "\t  2 & 1 \\\\\n",
       "\t  3 & 1 \\\\\n",
       "\t  3 & 1 \\\\\n",
       "\t  4 & 1 \\\\\n",
       "\t  7 & 2 \\\\\n",
       "\t  7 & 2 \\\\\n",
       "\t  8 & 2 \\\\\n",
       "\t  8 & 2 \\\\\n",
       "\t  8 & 2 \\\\\n",
       "\t 10 & 2 \\\\\n",
       "\\end{tabular}\n"
      ],
      "text/markdown": [
       "\n",
       "teljesítmény | képzettség | \n",
       "|---|---|---|---|---|---|---|---|---|---|\n",
       "|  2 | 1  | \n",
       "|  3 | 1  | \n",
       "|  3 | 1  | \n",
       "|  4 | 1  | \n",
       "|  7 | 2  | \n",
       "|  7 | 2  | \n",
       "|  8 | 2  | \n",
       "|  8 | 2  | \n",
       "|  8 | 2  | \n",
       "| 10 | 2  | \n",
       "\n",
       "\n"
      ],
      "text/plain": [
       "   teljesítmény képzettség\n",
       "1   2           1         \n",
       "2   3           1         \n",
       "3   3           1         \n",
       "4   4           1         \n",
       "5   7           2         \n",
       "6   7           2         \n",
       "7   8           2         \n",
       "8   8           2         \n",
       "9   8           2         \n",
       "10 10           2         "
      ]
     },
     "metadata": {},
     "output_type": "display_data"
    }
   ],
   "source": [
    "tbl<-read.table('./vegyes1.csv',header = F)\n",
    "ncol<-dim(tbl)[2]\n",
    "nrow<-dim(tbl)[1]\n",
    "colnames(tbl)=c(\"teljesítmény\",\"képzettség\")\n",
    "tbl"
   ]
  },
  {
   "cell_type": "code",
   "execution_count": 4,
   "metadata": {},
   "outputs": [],
   "source": [
    "Y<-tbl[,1]\n",
    "Y1<-tbl[tbl[,2]==1,1]\n",
    "Y2<-tbl[tbl[,2]==2,1]\n",
    "m<-mean(Y)\n",
    "n1<-sum(tbl[,2]==1)\n",
    "n2<-sum(tbl[,2]==2)\n",
    "m1<-mean(Y1)\n",
    "m2<-mean(Y2)\n",
    "SST<-sum((Y-m)^2)\n",
    "SSK<-n1*(m1-m)^2+n2*(m2-m)^2\n",
    "H2<-SSK/SST"
   ]
  },
  {
   "cell_type": "code",
   "execution_count": 7,
   "metadata": {},
   "outputs": [
    {
     "data": {
      "text/html": [
       "<span style=white-space:pre-wrap>'SST =    68'</span>"
      ],
      "text/latex": [
       "'SST =    68'"
      ],
      "text/markdown": [
       "<span style=white-space:pre-wrap>'SST =    68'</span>"
      ],
      "text/plain": [
       "[1] \"SST =    68\""
      ]
     },
     "metadata": {},
     "output_type": "display_data"
    },
    {
     "data": {
      "text/html": [
       "<span style=white-space:pre-wrap>'SSK =    60'</span>"
      ],
      "text/latex": [
       "'SSK =    60'"
      ],
      "text/markdown": [
       "<span style=white-space:pre-wrap>'SSK =    60'</span>"
      ],
      "text/plain": [
       "[1] \"SSK =    60\""
      ]
     },
     "metadata": {},
     "output_type": "display_data"
    },
    {
     "data": {
      "text/html": [
       "<span style=white-space:pre-wrap>' H2 =    0.882352941176471'</span>"
      ],
      "text/latex": [
       "' H2 =    0.882352941176471'"
      ],
      "text/markdown": [
       "<span style=white-space:pre-wrap>' H2 =    0.882352941176471'</span>"
      ],
      "text/plain": [
       "[1] \" H2 =    0.882352941176471\""
      ]
     },
     "metadata": {},
     "output_type": "display_data"
    }
   ],
   "source": [
    "paste(\"SST =   \",SST)\n",
    "paste(\"SSK =   \",SSK)\n",
    "paste(\" H2 =   \",H2)"
   ]
  },
  {
   "cell_type": "code",
   "execution_count": null,
   "metadata": {},
   "outputs": [],
   "source": []
  }
 ],
 "metadata": {
  "kernelspec": {
   "display_name": "R",
   "language": "R",
   "name": "ir"
  },
  "language_info": {
   "codemirror_mode": "r",
   "file_extension": ".r",
   "mimetype": "text/x-r-source",
   "name": "R",
   "pygments_lexer": "r",
   "version": "3.3.2"
  }
 },
 "nbformat": 4,
 "nbformat_minor": 2
}
