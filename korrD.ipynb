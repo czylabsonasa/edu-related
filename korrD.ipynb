{
 "cells": [
  {
   "cell_type": "markdown",
   "metadata": {},
   "source": [
    "$$\n",
    "-1\\le corr(X,Y)=\\frac{cov(X,Y)}{D(X)D(Y)} \\le 1\n",
    "$$\n",
    "<br>\n",
    "$$\n",
    "cov(X,Y)=\\frac{\\sum_i (X_i-\\overline{X})(Y_i-\\overline{Y})}{N}\n",
    "$$\n",
    "<br>\n",
    "$$\n",
    "D^2(X)=\\frac{\\sum_i (X_i-\\overline{X})^2}{N}\n",
    "$$\n",
    "Fontos hogy van iránya is. "
   ]
  },
  {
   "cell_type": "code",
   "execution_count": 1,
   "metadata": {},
   "outputs": [
    {
     "data": {
      "text/html": [
       "<table>\n",
       "<thead><tr><th scope=col>Debrecen</th><th scope=col>Nyiregy</th></tr></thead>\n",
       "<tbody>\n",
       "\t<tr><td>200</td><td>300</td></tr>\n",
       "\t<tr><td>300</td><td>370</td></tr>\n",
       "\t<tr><td>150</td><td>280</td></tr>\n",
       "\t<tr><td>250</td><td>300</td></tr>\n",
       "\t<tr><td>250</td><td>320</td></tr>\n",
       "</tbody>\n",
       "</table>\n"
      ],
      "text/latex": [
       "\\begin{tabular}{r|ll}\n",
       " Debrecen & Nyiregy\\\\\n",
       "\\hline\n",
       "\t 200 & 300\\\\\n",
       "\t 300 & 370\\\\\n",
       "\t 150 & 280\\\\\n",
       "\t 250 & 300\\\\\n",
       "\t 250 & 320\\\\\n",
       "\\end{tabular}\n"
      ],
      "text/markdown": [
       "\n",
       "Debrecen | Nyiregy | \n",
       "|---|---|---|---|---|\n",
       "| 200 | 300 | \n",
       "| 300 | 370 | \n",
       "| 150 | 280 | \n",
       "| 250 | 300 | \n",
       "| 250 | 320 | \n",
       "\n",
       "\n"
      ],
      "text/plain": [
       "  Debrecen Nyiregy\n",
       "1 200      300    \n",
       "2 300      370    \n",
       "3 150      280    \n",
       "4 250      300    \n",
       "5 250      320    "
      ]
     },
     "metadata": {},
     "output_type": "display_data"
    }
   ],
   "source": [
    "tbl<-read.table('./korrD.csv',header = F)\n",
    "N<-dim(tbl)[1]\n",
    "s1=\"Debrecen\"\n",
    "s2=\"Nyiregy\"\n",
    "colnames(tbl)=c(s1,s2)\n",
    "tbl"
   ]
  },
  {
   "cell_type": "code",
   "execution_count": 2,
   "metadata": {},
   "outputs": [
    {
     "data": {
      "text/html": [
       "<span style=white-space:pre-wrap>'átlagok:  230   314'</span>"
      ],
      "text/latex": [
       "'átlagok:  230   314'"
      ],
      "text/markdown": [
       "<span style=white-space:pre-wrap>'átlagok:  230   314'</span>"
      ],
      "text/plain": [
       "[1] \"átlagok:  230   314\""
      ]
     },
     "metadata": {},
     "output_type": "display_data"
    }
   ],
   "source": [
    "m1<-mean(tbl[,1])\n",
    "m2<-mean(tbl[,2])\n",
    "paste(\"átlagok: \",m1,\" \",m2)"
   ]
  },
  {
   "cell_type": "code",
   "execution_count": 4,
   "metadata": {},
   "outputs": [
    {
     "data": {
      "text/html": [
       "<table>\n",
       "<thead><tr><th scope=col>Debrecen-átlag</th><th scope=col>Nyiregy-átlag</th><th scope=col>(Debrecen-átlag)^2</th><th scope=col>(Nyiregy-átlag)^2</th><th scope=col>szorzat</th></tr></thead>\n",
       "<tbody>\n",
       "\t<tr><td>-30 </td><td>-14 </td><td> 900</td><td> 196</td><td> 420</td></tr>\n",
       "\t<tr><td> 70 </td><td> 56 </td><td>4900</td><td>3136</td><td>3920</td></tr>\n",
       "\t<tr><td>-80 </td><td>-34 </td><td>6400</td><td>1156</td><td>2720</td></tr>\n",
       "\t<tr><td> 20 </td><td>-14 </td><td> 400</td><td> 196</td><td>-280</td></tr>\n",
       "\t<tr><td> 20 </td><td>  6 </td><td> 400</td><td>  36</td><td> 120</td></tr>\n",
       "</tbody>\n",
       "</table>\n"
      ],
      "text/latex": [
       "\\begin{tabular}{lllll}\n",
       " Debrecen-átlag & Nyiregy-átlag & (Debrecen-átlag)\\textasciicircum{}2 & (Nyiregy-átlag)\\textasciicircum{}2 & szorzat\\\\\n",
       "\\hline\n",
       "\t -30  & -14  &  900 &  196 &  420\\\\\n",
       "\t  70  &  56  & 4900 & 3136 & 3920\\\\\n",
       "\t -80  & -34  & 6400 & 1156 & 2720\\\\\n",
       "\t  20  & -14  &  400 &  196 & -280\\\\\n",
       "\t  20  &   6  &  400 &   36 &  120\\\\\n",
       "\\end{tabular}\n"
      ],
      "text/markdown": [
       "\n",
       "Debrecen-átlag | Nyiregy-átlag | (Debrecen-átlag)^2 | (Nyiregy-átlag)^2 | szorzat | \n",
       "|---|---|---|---|---|\n",
       "| -30  | -14  |  900 |  196 |  420 | \n",
       "|  70  |  56  | 4900 | 3136 | 3920 | \n",
       "| -80  | -34  | 6400 | 1156 | 2720 | \n",
       "|  20  | -14  |  400 |  196 | -280 | \n",
       "|  20  |   6  |  400 |   36 |  120 | \n",
       "\n",
       "\n"
      ],
      "text/plain": [
       "     Debrecen-átlag Nyiregy-átlag (Debrecen-átlag)^2 (Nyiregy-átlag)^2 szorzat\n",
       "[1,] -30            -14            900                196               420   \n",
       "[2,]  70             56           4900               3136              3920   \n",
       "[3,] -80            -34           6400               1156              2720   \n",
       "[4,]  20            -14            400                196              -280   \n",
       "[5,]  20              6            400                 36               120   "
      ]
     },
     "metadata": {},
     "output_type": "display_data"
    }
   ],
   "source": [
    "elteres1=tbl[,1]-m1\n",
    "elteres2=tbl[,2]-m2\n",
    "elteres1sq=elteres1^2\n",
    "elteres2sq=elteres2^2\n",
    "szorzat=elteres1*elteres2\n",
    "szamolas=cbind(elteres1,elteres2,elteres1sq,elteres2sq,szorzat)\n",
    "colnames(szamolas)=c(sprintf(\"%s-átlag\",s1),sprintf(\"%s-átlag\",s2),\n",
    "                     sprintf(\"(%s-átlag)^2\",s1),sprintf(\"(%s-átlag)^2\",s2),\n",
    "                     \"szorzat\")\n",
    "szamolas"
   ]
  },
  {
   "cell_type": "code",
   "execution_count": 5,
   "metadata": {},
   "outputs": [
    {
     "data": {
      "text/html": [
       "<span style=white-space:pre-wrap>'D(Debrecen)=     50.9901951359278'</span>"
      ],
      "text/latex": [
       "'D(Debrecen)=     50.9901951359278'"
      ],
      "text/markdown": [
       "<span style=white-space:pre-wrap>'D(Debrecen)=     50.9901951359278'</span>"
      ],
      "text/plain": [
       "[1] \"D(Debrecen)=     50.9901951359278\""
      ]
     },
     "metadata": {},
     "output_type": "display_data"
    },
    {
     "data": {
      "text/html": [
       "<span style=white-space:pre-wrap>'D(Nyiregy)=     30.7245829914744'</span>"
      ],
      "text/latex": [
       "'D(Nyiregy)=     30.7245829914744'"
      ],
      "text/markdown": [
       "<span style=white-space:pre-wrap>'D(Nyiregy)=     30.7245829914744'</span>"
      ],
      "text/plain": [
       "[1] \"D(Nyiregy)=     30.7245829914744\""
      ]
     },
     "metadata": {},
     "output_type": "display_data"
    },
    {
     "data": {
      "text/html": [
       "<span style=white-space:pre-wrap>'cov(Debrecen,Nyiregy)=    1380'</span>"
      ],
      "text/latex": [
       "'cov(Debrecen,Nyiregy)=    1380'"
      ],
      "text/markdown": [
       "<span style=white-space:pre-wrap>'cov(Debrecen,Nyiregy)=    1380'</span>"
      ],
      "text/plain": [
       "[1] \"cov(Debrecen,Nyiregy)=    1380\""
      ]
     },
     "metadata": {},
     "output_type": "display_data"
    },
    {
     "data": {
      "text/html": [
       "<span style=white-space:pre-wrap>'corr(Debrecen,Nyiregy)=    0.880859039049585'</span>"
      ],
      "text/latex": [
       "'corr(Debrecen,Nyiregy)=    0.880859039049585'"
      ],
      "text/markdown": [
       "<span style=white-space:pre-wrap>'corr(Debrecen,Nyiregy)=    0.880859039049585'</span>"
      ],
      "text/plain": [
       "[1] \"corr(Debrecen,Nyiregy)=    0.880859039049585\""
      ]
     },
     "metadata": {},
     "output_type": "display_data"
    }
   ],
   "source": [
    "d1=sqrt(mean(elteres1sq))\n",
    "d2=sqrt(mean(elteres2sq))\n",
    "cv=mean(elteres1*elteres2)\n",
    "paste(sprintf(\"D(%s)=    \",s1),d1)\n",
    "paste(sprintf(\"D(%s)=    \",s2),d2)\n",
    "paste(sprintf(\"cov(%s,%s)=   \",s1,s2),cv)\n",
    "cr=cv/(d1*d2)\n",
    "paste(sprintf(\"corr(%s,%s)=   \",s1,s2),cr)"
   ]
  },
  {
   "cell_type": "code",
   "execution_count": 6,
   "metadata": {},
   "outputs": [
    {
     "data": {
      "image/png": "[encoded data removed]",
      "text/plain": [
       "plot without title"
      ]
     },
     "metadata": {},
     "output_type": "display_data"
    }
   ],
   "source": [
    "plot(tbl[,1],tbl[,2])"
   ]
  },
  {
   "cell_type": "code",
   "execution_count": null,
   "metadata": {},
   "outputs": [],
   "source": []
  }
 ],
 "metadata": {
  "hide_input": true,
  "kernelspec": {
   "display_name": "R",
   "language": "R",
   "name": "ir"
  },
  "language_info": {
   "codemirror_mode": "r",
   "file_extension": ".r",
   "mimetype": "text/x-r-source",
   "name": "R",
   "pygments_lexer": "r",
   "version": "3.3.2"
  }
 },
 "nbformat": 4,
 "nbformat_minor": 2
}
