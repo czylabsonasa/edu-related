{
 "cells": [
  {
   "cell_type": "code",
   "execution_count": 1,
   "metadata": {},
   "outputs": [
    {
     "data": {
      "text/html": [
       "<script>\n",
       "code_show=true; \n",
       "function code_toggle() {\n",
       " if (code_show){\n",
       " $('div.input').hide();\n",
       " } else {\n",
       " $('div.input').show();\n",
       " }\n",
       " code_show = !code_show\n",
       "} \n",
       "$( document ).ready(code_toggle);\n",
       "</script>\n",
       "To toggle on/off the raw code, click <a href=\"javascript:code_toggle()\">here</a>."
      ],
      "text/plain": [
       "<IPython.core.display.HTML object>"
      ]
     },
     "execution_count": 1,
     "metadata": {},
     "output_type": "execute_result"
    }
   ],
   "source": [
    "from IPython.display import HTML\n",
    "HTML('''<script>\n",
    "code_show=true; \n",
    "function code_toggle() {\n",
    " if (code_show){\n",
    " $('div.input').hide();\n",
    " } else {\n",
    " $('div.input').show();\n",
    " }\n",
    " code_show = !code_show\n",
    "} \n",
    "$( document ).ready(code_toggle);\n",
    "</script>\n",
    "To toggle on/off the raw code, click <a href=\"javascript:code_toggle()\">here</a>.''')"
   ]
  },
  {
   "cell_type": "markdown",
   "metadata": {},
   "source": [
    "$H^2$-együttható:\n",
    "$$\n",
    "H^2=\\frac{SSK}{SST}=1-\\frac{SSB}{SST}\n",
    "$$\n",
    "SST: variancia-jellegű mennyiség, teljes \n",
    "$$\n",
    "SST=\\sum_{i,j} \\left( Y_{i,j}-\\overline{Y}\\right)^2\n",
    "$$\n",
    "SSK: külső eltérés\n",
    "$$\n",
    "SSK=\\sum_i N_i \\left( \\overline{Y_i}-\\overline{Y}\\right)^2\n",
    "$$\n",
    "SSB: belső eltérés\n",
    "$$\n",
    "SSB=\\sum_i \\sum_j \\left( Y_{i,j}-\\overline{Y_i}\\right)^2\n",
    "$$\n",
    "\n",
    "\n",
    "\n",
    "$H^2$: a csoportképző ismérv \"hatása\" a folytonos ismérvre $[0,1]$ skálán mérve.<br>\n",
    "* <0.3 gyenge\n",
    "* 0.3 - 0.7 közepes\n",
    "* \\>0.7 erős\n",
    "\n",
    "* a teljes variancia hány százaléka tulajdonítható a csoportképző ismérvnek, mekkora hányadát magyarázza."
   ]
  },
  {
   "cell_type": "code",
   "execution_count": 2,
   "metadata": {},
   "outputs": [
    {
     "data": {
      "text/html": [
       "<table>\n",
       "<thead><tr><th scope=col>teljesítmény</th><th scope=col>nem</th></tr></thead>\n",
       "<tbody>\n",
       "\t<tr><td>85</td><td>1 </td></tr>\n",
       "\t<tr><td>66</td><td>1 </td></tr>\n",
       "\t<tr><td>50</td><td>1 </td></tr>\n",
       "\t<tr><td>78</td><td>1 </td></tr>\n",
       "\t<tr><td>51</td><td>1 </td></tr>\n",
       "\t<tr><td>72</td><td>1 </td></tr>\n",
       "\t<tr><td>76</td><td>1 </td></tr>\n",
       "\t<tr><td>64</td><td>1 </td></tr>\n",
       "\t<tr><td>65</td><td>1 </td></tr>\n",
       "\t<tr><td>95</td><td>1 </td></tr>\n",
       "\t<tr><td>42</td><td>1 </td></tr>\n",
       "\t<tr><td>58</td><td>1 </td></tr>\n",
       "\t<tr><td>92</td><td>1 </td></tr>\n",
       "\t<tr><td>81</td><td>1 </td></tr>\n",
       "\t<tr><td>69</td><td>1 </td></tr>\n",
       "\t<tr><td>89</td><td>1 </td></tr>\n",
       "\t<tr><td>74</td><td>1 </td></tr>\n",
       "\t<tr><td>72</td><td>1 </td></tr>\n",
       "\t<tr><td>59</td><td>1 </td></tr>\n",
       "\t<tr><td>84</td><td>2 </td></tr>\n",
       "\t<tr><td>58</td><td>2 </td></tr>\n",
       "\t<tr><td>80</td><td>2 </td></tr>\n",
       "\t<tr><td>82</td><td>2 </td></tr>\n",
       "\t<tr><td>90</td><td>2 </td></tr>\n",
       "\t<tr><td>97</td><td>2 </td></tr>\n",
       "\t<tr><td>59</td><td>2 </td></tr>\n",
       "\t<tr><td>91</td><td>2 </td></tr>\n",
       "\t<tr><td>76</td><td>2 </td></tr>\n",
       "\t<tr><td>80</td><td>2 </td></tr>\n",
       "\t<tr><td>96</td><td>2 </td></tr>\n",
       "\t<tr><td>85</td><td>2 </td></tr>\n",
       "\t<tr><td>77</td><td>2 </td></tr>\n",
       "</tbody>\n",
       "</table>\n"
      ],
      "text/latex": [
       "\\begin{tabular}{r|ll}\n",
       " teljesítmény & nem\\\\\n",
       "\\hline\n",
       "\t 85 & 1 \\\\\n",
       "\t 66 & 1 \\\\\n",
       "\t 50 & 1 \\\\\n",
       "\t 78 & 1 \\\\\n",
       "\t 51 & 1 \\\\\n",
       "\t 72 & 1 \\\\\n",
       "\t 76 & 1 \\\\\n",
       "\t 64 & 1 \\\\\n",
       "\t 65 & 1 \\\\\n",
       "\t 95 & 1 \\\\\n",
       "\t 42 & 1 \\\\\n",
       "\t 58 & 1 \\\\\n",
       "\t 92 & 1 \\\\\n",
       "\t 81 & 1 \\\\\n",
       "\t 69 & 1 \\\\\n",
       "\t 89 & 1 \\\\\n",
       "\t 74 & 1 \\\\\n",
       "\t 72 & 1 \\\\\n",
       "\t 59 & 1 \\\\\n",
       "\t 84 & 2 \\\\\n",
       "\t 58 & 2 \\\\\n",
       "\t 80 & 2 \\\\\n",
       "\t 82 & 2 \\\\\n",
       "\t 90 & 2 \\\\\n",
       "\t 97 & 2 \\\\\n",
       "\t 59 & 2 \\\\\n",
       "\t 91 & 2 \\\\\n",
       "\t 76 & 2 \\\\\n",
       "\t 80 & 2 \\\\\n",
       "\t 96 & 2 \\\\\n",
       "\t 85 & 2 \\\\\n",
       "\t 77 & 2 \\\\\n",
       "\\end{tabular}\n"
      ],
      "text/markdown": [
       "\n",
       "teljesítmény | nem | \n",
       "|---|---|---|---|---|---|---|---|---|---|---|---|---|---|---|---|---|---|---|---|---|---|---|---|---|---|---|---|---|---|---|---|\n",
       "| 85 | 1  | \n",
       "| 66 | 1  | \n",
       "| 50 | 1  | \n",
       "| 78 | 1  | \n",
       "| 51 | 1  | \n",
       "| 72 | 1  | \n",
       "| 76 | 1  | \n",
       "| 64 | 1  | \n",
       "| 65 | 1  | \n",
       "| 95 | 1  | \n",
       "| 42 | 1  | \n",
       "| 58 | 1  | \n",
       "| 92 | 1  | \n",
       "| 81 | 1  | \n",
       "| 69 | 1  | \n",
       "| 89 | 1  | \n",
       "| 74 | 1  | \n",
       "| 72 | 1  | \n",
       "| 59 | 1  | \n",
       "| 84 | 2  | \n",
       "| 58 | 2  | \n",
       "| 80 | 2  | \n",
       "| 82 | 2  | \n",
       "| 90 | 2  | \n",
       "| 97 | 2  | \n",
       "| 59 | 2  | \n",
       "| 91 | 2  | \n",
       "| 76 | 2  | \n",
       "| 80 | 2  | \n",
       "| 96 | 2  | \n",
       "| 85 | 2  | \n",
       "| 77 | 2  | \n",
       "\n",
       "\n"
      ],
      "text/plain": [
       "   teljesítmény nem\n",
       "1  85           1  \n",
       "2  66           1  \n",
       "3  50           1  \n",
       "4  78           1  \n",
       "5  51           1  \n",
       "6  72           1  \n",
       "7  76           1  \n",
       "8  64           1  \n",
       "9  65           1  \n",
       "10 95           1  \n",
       "11 42           1  \n",
       "12 58           1  \n",
       "13 92           1  \n",
       "14 81           1  \n",
       "15 69           1  \n",
       "16 89           1  \n",
       "17 74           1  \n",
       "18 72           1  \n",
       "19 59           1  \n",
       "20 84           2  \n",
       "21 58           2  \n",
       "22 80           2  \n",
       "23 82           2  \n",
       "24 90           2  \n",
       "25 97           2  \n",
       "26 59           2  \n",
       "27 91           2  \n",
       "28 76           2  \n",
       "29 80           2  \n",
       "30 96           2  \n",
       "31 85           2  \n",
       "32 77           2  "
      ]
     },
     "metadata": {},
     "output_type": "display_data"
    }
   ],
   "source": [
    "tbl<-read.table('./vegyes2.csv',header = F)\n",
    "ncol<-dim(tbl)[2]\n",
    "nrow<-dim(tbl)[1]\n",
    "colnames(tbl)=c(\"teljesítmény\",\"nem\")\n",
    "tbl"
   ]
  },
  {
   "cell_type": "code",
   "execution_count": 5,
   "metadata": {},
   "outputs": [],
   "source": [
    "Y=tbl[,1]\n",
    "Y1=tbl[tbl[,2]==1,1]\n",
    "Y2=tbl[tbl[,2]==2,1]\n",
    "m=mean(Y)\n",
    "n1=sum(tbl[,2]==1)\n",
    "n2=sum(tbl[,2]==2)\n",
    "m1=mean(Y1)\n",
    "m2=mean(Y2)\n",
    "SST=sum((Y-m)^2)\n",
    "SSK=n1*(m1-m)^2+n2*(m2-m)^2\n",
    "H2=SSK/SST"
   ]
  },
  {
   "cell_type": "code",
   "execution_count": 6,
   "metadata": {},
   "outputs": [
    {
     "data": {
      "text/html": [
       "<span style=white-space:pre-wrap>'SST=    6457.46875'</span>"
      ],
      "text/latex": [
       "'SST=    6457.46875'"
      ],
      "text/markdown": [
       "<span style=white-space:pre-wrap>'SST=    6457.46875'</span>"
      ],
      "text/plain": [
       "[1] \"SST=    6457.46875\""
      ]
     },
     "metadata": {},
     "output_type": "display_data"
    },
    {
     "data": {
      "text/html": [
       "<span style=white-space:pre-wrap>'SSK=    889.144863360325'</span>"
      ],
      "text/latex": [
       "'SSK=    889.144863360325'"
      ],
      "text/markdown": [
       "<span style=white-space:pre-wrap>'SSK=    889.144863360325'</span>"
      ],
      "text/plain": [
       "[1] \"SSK=    889.144863360325\""
      ]
     },
     "metadata": {},
     "output_type": "display_data"
    },
    {
     "data": {
      "text/html": [
       "<span style=white-space:pre-wrap>'H2 =    0.137692476384082'</span>"
      ],
      "text/latex": [
       "'H2 =    0.137692476384082'"
      ],
      "text/markdown": [
       "<span style=white-space:pre-wrap>'H2 =    0.137692476384082'</span>"
      ],
      "text/plain": [
       "[1] \"H2 =    0.137692476384082\""
      ]
     },
     "metadata": {},
     "output_type": "display_data"
    }
   ],
   "source": [
    "paste(\"SST=   \",SST)\n",
    "paste(\"SSK=   \",SSK)\n",
    "paste(\"H2 =   \",H2)"
   ]
  },
  {
   "cell_type": "code",
   "execution_count": null,
   "metadata": {},
   "outputs": [],
   "source": []
  }
 ],
 "metadata": {
  "kernelspec": {
   "display_name": "R",
   "language": "R",
   "name": "ir"
  },
  "language_info": {
   "codemirror_mode": "r",
   "file_extension": ".r",
   "mimetype": "text/x-r-source",
   "name": "R",
   "pygments_lexer": "r",
   "version": "3.3.2"
  }
 },
 "nbformat": 4,
 "nbformat_minor": 2
}
