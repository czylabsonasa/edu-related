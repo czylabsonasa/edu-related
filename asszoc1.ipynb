{
 "cells": [
  {
   "cell_type": "code",
   "execution_count": 2,
   "metadata": {},
   "outputs": [
    {
     "data": {
      "text/html": [
       "<script>\n",
       "code_show=true; \n",
       "function code_toggle() {\n",
       " if (code_show){\n",
       " $('div.input').hide();\n",
       " } else {\n",
       " $('div.input').show();\n",
       " }\n",
       " code_show = !code_show\n",
       "} \n",
       "$( document ).ready(code_toggle);\n",
       "</script>\n",
       "To toggle on/off the raw code, click <a href=\"javascript:code_toggle()\">here</a>."
      ],
      "text/plain": [
       "<IPython.core.display.HTML object>"
      ]
     },
     "execution_count": 2,
     "metadata": {},
     "output_type": "execute_result"
    }
   ],
   "source": [
    "from IPython.display import HTML\n",
    "HTML('''<script>\n",
    "code_show=true; \n",
    "function code_toggle() {\n",
    " if (code_show){\n",
    " $('div.input').hide();\n",
    " } else {\n",
    " $('div.input').show();\n",
    " }\n",
    " code_show = !code_show\n",
    "} \n",
    "$( document ).ready(code_toggle);\n",
    "</script>\n",
    "To toggle on/off the raw code, click <a href=\"javascript:code_toggle()\">here</a>.''')"
   ]
  },
  {
   "cell_type": "code",
   "execution_count": 2,
   "metadata": {},
   "outputs": [
    {
     "data": {
      "text/html": [
       "<table>\n",
       "<thead><tr><th></th><th scope=col>0-6</th><th scope=col>6-14</th><th scope=col>14 felett</th><th scope=col>összes</th></tr></thead>\n",
       "<tbody>\n",
       "\t<tr><th scope=row>magyar</th><td>182</td><td> 73</td><td>16 </td><td>271</td></tr>\n",
       "\t<tr><th scope=row>külföldi</th><td>173</td><td> 92</td><td>10 </td><td>275</td></tr>\n",
       "\t<tr><th scope=row>összes</th><td>355</td><td>165</td><td>26 </td><td>546</td></tr>\n",
       "</tbody>\n",
       "</table>\n"
      ],
      "text/latex": [
       "\\begin{tabular}{r|llll}\n",
       "  & 0-6 & 6-14 & 14 felett & összes\\\\\n",
       "\\hline\n",
       "\tmagyar & 182 &  73 & 16  & 271\\\\\n",
       "\tkülföldi & 173 &  92 & 10  & 275\\\\\n",
       "\tösszes & 355 & 165 & 26  & 546\\\\\n",
       "\\end{tabular}\n"
      ],
      "text/markdown": [
       "\n",
       "| <!--/--> | 0-6 | 6-14 | 14 felett | összes | \n",
       "|---|---|---|\n",
       "| magyar | 182 |  73 | 16  | 271 | \n",
       "| külföldi | 173 |  92 | 10  | 275 | \n",
       "| összes | 355 | 165 | 26  | 546 | \n",
       "\n",
       "\n"
      ],
      "text/plain": [
       "         0-6 6-14 14 felett összes\n",
       "magyar   182  73  16        271   \n",
       "külföldi 173  92  10        275   \n",
       "összes   355 165  26        546   "
      ]
     },
     "metadata": {},
     "output_type": "display_data"
    }
   ],
   "source": [
    "tbl<-read.table('./asszoc1.csv',header = F)\n",
    "ncol<-dim(tbl)[2]\n",
    "nrow<-dim(tbl)[1]\n",
    "srow<-rowSums(tbl)\n",
    "scol<-colSums(tbl)\n",
    "tbl=cbind(tbl,srow)\n",
    "tbl=rbind(tbl,scol)\n",
    "colnames(tbl)=c(\"0-6\",\"6-14\",\"14 felett\",\"összes\")\n",
    "rownames(tbl)=c(\"magyar\",\"külföldi\",\"összes\")\n",
    "N<-sum(srow)\n",
    "tbl[nrow+1,ncol+1]<-N\n",
    "tbl"
   ]
  },
  {
   "cell_type": "markdown",
   "metadata": {
    "collapsed": true
   },
   "source": [
    "Cramér-együttható:\n",
    "$$\n",
    "\\chi^2=\\sum_{i,j}\\frac{(f_{i,j}-f^{*}_{i,j})^2}{f^{*}_{i,j}}\n",
    "$$\n",
    "$$\n",
    "C^2=\\frac{\\chi^2}{N\\min(r-1,c-1)}\\hspace 2cm 0\\le C\\le 1\n",
    "$$\n",
    "\n",
    "C: a kapcsolat erőssége $[0,1]$ skálán mérve.<br>\n",
    "* <0.3 gyenge\n",
    "* 0.3 - 0.7 közepes\n",
    "* \\>0.7 erős\n",
    "\n",
    "másképp: ha tudjuk az *egyik* ismérv szerinti értéket, hány százalékkal nő átlagosan a *másik* ismérv szerinti értékről a \"tudásunk\".\n"
   ]
  },
  {
   "cell_type": "markdown",
   "metadata": {},
   "source": [
    "az $f^{*}$ táblázat:\n"
   ]
  },
  {
   "cell_type": "code",
   "execution_count": 3,
   "metadata": {},
   "outputs": [
    {
     "data": {
      "text/html": [
       "<table>\n",
       "<thead><tr><th></th><th scope=col>0-6</th><th scope=col>6-14</th><th scope=col>14 felett</th></tr></thead>\n",
       "<tbody>\n",
       "\t<tr><th scope=row>magyar</th><td>176.1996</td><td>81.8956 </td><td>12.90476</td></tr>\n",
       "\t<tr><th scope=row>külföldi</th><td>178.8004</td><td>83.1044 </td><td>13.09524</td></tr>\n",
       "</tbody>\n",
       "</table>\n"
      ],
      "text/latex": [
       "\\begin{tabular}{r|lll}\n",
       "  & 0-6 & 6-14 & 14 felett\\\\\n",
       "\\hline\n",
       "\tmagyar & 176.1996 & 81.8956  & 12.90476\\\\\n",
       "\tkülföldi & 178.8004 & 83.1044  & 13.09524\\\\\n",
       "\\end{tabular}\n"
      ],
      "text/markdown": [
       "\n",
       "| <!--/--> | 0-6 | 6-14 | 14 felett | \n",
       "|---|---|\n",
       "| magyar | 176.1996 | 81.8956  | 12.90476 | \n",
       "| külföldi | 178.8004 | 83.1044  | 13.09524 | \n",
       "\n",
       "\n"
      ],
      "text/plain": [
       "         0-6      6-14    14 felett\n",
       "magyar   176.1996 81.8956 12.90476 \n",
       "külföldi 178.8004 83.1044 13.09524 "
      ]
     },
     "metadata": {},
     "output_type": "display_data"
    }
   ],
   "source": [
    "cstbl=tbl\n",
    "for(i in 1:nrow){\n",
    "    for(j in 1:ncol){\n",
    "        cstbl[i,j]<-srow[i]*scol[j]/N\n",
    "    }\n",
    "}\n",
    "cstbl[1:nrow,1:ncol]\n"
   ]
  },
  {
   "cell_type": "markdown",
   "metadata": {},
   "source": [
    "a $\\chi^2$ táblázat:"
   ]
  },
  {
   "cell_type": "code",
   "execution_count": 4,
   "metadata": {},
   "outputs": [
    {
     "data": {
      "text/html": [
       "<table>\n",
       "<thead><tr><th></th><th scope=col>0-6</th><th scope=col>6-14</th><th scope=col>14 felett</th></tr></thead>\n",
       "<tbody>\n",
       "\t<tr><th scope=row>magyar</th><td>0.1909439</td><td>0.9662518</td><td>0.7424003</td></tr>\n",
       "\t<tr><th scope=row>külföldi</th><td>0.1881666</td><td>0.9521973</td><td>0.7316017</td></tr>\n",
       "</tbody>\n",
       "</table>\n"
      ],
      "text/latex": [
       "\\begin{tabular}{r|lll}\n",
       "  & 0-6 & 6-14 & 14 felett\\\\\n",
       "\\hline\n",
       "\tmagyar & 0.1909439 & 0.9662518 & 0.7424003\\\\\n",
       "\tkülföldi & 0.1881666 & 0.9521973 & 0.7316017\\\\\n",
       "\\end{tabular}\n"
      ],
      "text/markdown": [
       "\n",
       "| <!--/--> | 0-6 | 6-14 | 14 felett | \n",
       "|---|---|\n",
       "| magyar | 0.1909439 | 0.9662518 | 0.7424003 | \n",
       "| külföldi | 0.1881666 | 0.9521973 | 0.7316017 | \n",
       "\n",
       "\n"
      ],
      "text/plain": [
       "         0-6       6-14      14 felett\n",
       "magyar   0.1909439 0.9662518 0.7424003\n",
       "külföldi 0.1881666 0.9521973 0.7316017"
      ]
     },
     "metadata": {},
     "output_type": "display_data"
    }
   ],
   "source": [
    "\n",
    "for(i in 1:nrow){\n",
    "    for(j in 1:ncol){\n",
    "        cstbl[i,j]<-(cstbl[i,j]-tbl[i,j])^2/cstbl[i,j]\n",
    "    }\n",
    "}\n",
    "cstbl[1:nrow,1:ncol]"
   ]
  },
  {
   "cell_type": "code",
   "execution_count": 5,
   "metadata": {},
   "outputs": [
    {
     "data": {
      "text/html": [
       "<span style=white-space:pre-wrap>'C=    0.0831121046449742'</span>"
      ],
      "text/latex": [
       "'C=    0.0831121046449742'"
      ],
      "text/markdown": [
       "<span style=white-space:pre-wrap>'C=    0.0831121046449742'</span>"
      ],
      "text/plain": [
       "[1] \"C=    0.0831121046449742\""
      ]
     },
     "metadata": {},
     "output_type": "display_data"
    }
   ],
   "source": [
    "khi2=sum(cstbl[1:nrow,1:ncol])\n",
    "C=sqrt(khi2/(N*min(nrow-1,ncol-1)))\n",
    "paste(\"C=   \",C)\n"
   ]
  },
  {
   "cell_type": "code",
   "execution_count": null,
   "metadata": {},
   "outputs": [],
   "source": []
  }
 ],
 "metadata": {
  "kernelspec": {
   "display_name": "R",
   "language": "R",
   "name": "ir"
  },
  "language_info": {
   "codemirror_mode": "r",
   "file_extension": ".r",
   "mimetype": "text/x-r-source",
   "name": "R",
   "pygments_lexer": "r",
   "version": "3.3.2"
  }
 },
 "nbformat": 4,
 "nbformat_minor": 2
}
