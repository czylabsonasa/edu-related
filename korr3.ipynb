{
 "cells": [
  {
   "cell_type": "code",
   "execution_count": 1,
   "metadata": {},
   "outputs": [
    {
     "data": {
      "text/html": [
       "<script>\n",
       "code_show=true; \n",
       "function code_toggle() {\n",
       " if (code_show){\n",
       " $('div.input').hide();\n",
       " } else {\n",
       " $('div.input').show();\n",
       " }\n",
       " code_show = !code_show\n",
       "} \n",
       "$( document ).ready(code_toggle);\n",
       "</script>\n",
       "To toggle on/off the raw code, click <a href=\"javascript:code_toggle()\">here</a>."
      ],
      "text/plain": [
       "<IPython.core.display.HTML object>"
      ]
     },
     "execution_count": 1,
     "metadata": {},
     "output_type": "execute_result"
    }
   ],
   "source": [
    "from IPython.display import HTML\n",
    "HTML('''<script>\n",
    "code_show=true; \n",
    "function code_toggle() {\n",
    " if (code_show){\n",
    " $('div.input').hide();\n",
    " } else {\n",
    " $('div.input').show();\n",
    " }\n",
    " code_show = !code_show\n",
    "} \n",
    "$( document ).ready(code_toggle);\n",
    "</script>\n",
    "To toggle on/off the raw code, click <a href=\"javascript:code_toggle()\">here</a>.''')"
   ]
  },
  {
   "cell_type": "markdown",
   "metadata": {},
   "source": [
    "$$\n",
    "-1\\le corr(X,Y)=\\frac{cov(X,Y)}{D(X)D(Y)} \\le 1\n",
    "$$\n",
    "<br>\n",
    "$$\n",
    "cov(X,Y)=\\frac{\\sum_i (X_i-\\overline{X})(Y_i-\\overline{Y})}{N}\n",
    "$$\n",
    "<br>\n",
    "$$\n",
    "D^2(X)=\\frac{\\sum_i (X_i-\\overline{X})^2}{N}\n",
    "$$\n",
    "Fontos hogy van iránya is. "
   ]
  },
  {
   "cell_type": "code",
   "execution_count": 1,
   "metadata": {},
   "outputs": [
    {
     "data": {
      "text/html": [
       "<table>\n",
       "<thead><tr><th scope=col>stat</th><th scope=col>mat</th></tr></thead>\n",
       "<tbody>\n",
       "\t<tr><td>27</td><td>25</td></tr>\n",
       "\t<tr><td>18</td><td> 6</td></tr>\n",
       "\t<tr><td>29</td><td> 9</td></tr>\n",
       "\t<tr><td>43</td><td>33</td></tr>\n",
       "\t<tr><td>32</td><td>20</td></tr>\n",
       "\t<tr><td>38</td><td>25</td></tr>\n",
       "\t<tr><td>18</td><td>26</td></tr>\n",
       "\t<tr><td>25</td><td>18</td></tr>\n",
       "\t<tr><td>43</td><td>28</td></tr>\n",
       "\t<tr><td>20</td><td>20</td></tr>\n",
       "\t<tr><td>31</td><td>18</td></tr>\n",
       "\t<tr><td>22</td><td> 8</td></tr>\n",
       "\t<tr><td>17</td><td>35</td></tr>\n",
       "\t<tr><td>35</td><td>28</td></tr>\n",
       "\t<tr><td>37</td><td>31</td></tr>\n",
       "</tbody>\n",
       "</table>\n"
      ],
      "text/latex": [
       "\\begin{tabular}{r|ll}\n",
       " stat & mat\\\\\n",
       "\\hline\n",
       "\t 27 & 25\\\\\n",
       "\t 18 &  6\\\\\n",
       "\t 29 &  9\\\\\n",
       "\t 43 & 33\\\\\n",
       "\t 32 & 20\\\\\n",
       "\t 38 & 25\\\\\n",
       "\t 18 & 26\\\\\n",
       "\t 25 & 18\\\\\n",
       "\t 43 & 28\\\\\n",
       "\t 20 & 20\\\\\n",
       "\t 31 & 18\\\\\n",
       "\t 22 &  8\\\\\n",
       "\t 17 & 35\\\\\n",
       "\t 35 & 28\\\\\n",
       "\t 37 & 31\\\\\n",
       "\\end{tabular}\n"
      ],
      "text/markdown": [
       "\n",
       "stat | mat | \n",
       "|---|---|---|---|---|---|---|---|---|---|---|---|---|---|---|\n",
       "| 27 | 25 | \n",
       "| 18 |  6 | \n",
       "| 29 |  9 | \n",
       "| 43 | 33 | \n",
       "| 32 | 20 | \n",
       "| 38 | 25 | \n",
       "| 18 | 26 | \n",
       "| 25 | 18 | \n",
       "| 43 | 28 | \n",
       "| 20 | 20 | \n",
       "| 31 | 18 | \n",
       "| 22 |  8 | \n",
       "| 17 | 35 | \n",
       "| 35 | 28 | \n",
       "| 37 | 31 | \n",
       "\n",
       "\n"
      ],
      "text/plain": [
       "   stat mat\n",
       "1  27   25 \n",
       "2  18    6 \n",
       "3  29    9 \n",
       "4  43   33 \n",
       "5  32   20 \n",
       "6  38   25 \n",
       "7  18   26 \n",
       "8  25   18 \n",
       "9  43   28 \n",
       "10 20   20 \n",
       "11 31   18 \n",
       "12 22    8 \n",
       "13 17   35 \n",
       "14 35   28 \n",
       "15 37   31 "
      ]
     },
     "metadata": {},
     "output_type": "display_data"
    }
   ],
   "source": [
    "tbl<-read.table('./korr3.csv',header = F)\n",
    "N<-dim(tbl)[1]\n",
    "s1=\"stat\"\n",
    "s2=\"mat\"\n",
    "colnames(tbl)=c(s1,s2)\n",
    "tbl"
   ]
  },
  {
   "cell_type": "code",
   "execution_count": 2,
   "metadata": {},
   "outputs": [
    {
     "data": {
      "text/html": [
       "<span style=white-space:pre-wrap>'átlagok:  29   22'</span>"
      ],
      "text/latex": [
       "'átlagok:  29   22'"
      ],
      "text/markdown": [
       "<span style=white-space:pre-wrap>'átlagok:  29   22'</span>"
      ],
      "text/plain": [
       "[1] \"átlagok:  29   22\""
      ]
     },
     "metadata": {},
     "output_type": "display_data"
    }
   ],
   "source": [
    "m1<-mean(tbl[,1])\n",
    "m2<-mean(tbl[,2])\n",
    "paste(\"átlagok: \",m1,\" \",m2)"
   ]
  },
  {
   "cell_type": "code",
   "execution_count": 3,
   "metadata": {},
   "outputs": [
    {
     "data": {
      "text/html": [
       "<table>\n",
       "<thead><tr><th scope=col>stat-átlag</th><th scope=col>mat-átlag</th><th scope=col>(stat-átlag)^2</th><th scope=col>(mat-átlag)^2</th><th scope=col>szorzat</th></tr></thead>\n",
       "<tbody>\n",
       "\t<tr><td> -2 </td><td>  3 </td><td>  4 </td><td>  9 </td><td>  -6</td></tr>\n",
       "\t<tr><td>-11 </td><td>-16 </td><td>121 </td><td>256 </td><td> 176</td></tr>\n",
       "\t<tr><td>  0 </td><td>-13 </td><td>  0 </td><td>169 </td><td>   0</td></tr>\n",
       "\t<tr><td> 14 </td><td> 11 </td><td>196 </td><td>121 </td><td> 154</td></tr>\n",
       "\t<tr><td>  3 </td><td> -2 </td><td>  9 </td><td>  4 </td><td>  -6</td></tr>\n",
       "\t<tr><td>  9 </td><td>  3 </td><td> 81 </td><td>  9 </td><td>  27</td></tr>\n",
       "\t<tr><td>-11 </td><td>  4 </td><td>121 </td><td> 16 </td><td> -44</td></tr>\n",
       "\t<tr><td> -4 </td><td> -4 </td><td> 16 </td><td> 16 </td><td>  16</td></tr>\n",
       "\t<tr><td> 14 </td><td>  6 </td><td>196 </td><td> 36 </td><td>  84</td></tr>\n",
       "\t<tr><td> -9 </td><td> -2 </td><td> 81 </td><td>  4 </td><td>  18</td></tr>\n",
       "\t<tr><td>  2 </td><td> -4 </td><td>  4 </td><td> 16 </td><td>  -8</td></tr>\n",
       "\t<tr><td> -7 </td><td>-14 </td><td> 49 </td><td>196 </td><td>  98</td></tr>\n",
       "\t<tr><td>-12 </td><td> 13 </td><td>144 </td><td>169 </td><td>-156</td></tr>\n",
       "\t<tr><td>  6 </td><td>  6 </td><td> 36 </td><td> 36 </td><td>  36</td></tr>\n",
       "\t<tr><td>  8 </td><td>  9 </td><td> 64 </td><td> 81 </td><td>  72</td></tr>\n",
       "</tbody>\n",
       "</table>\n"
      ],
      "text/latex": [
       "\\begin{tabular}{lllll}\n",
       " stat-átlag & mat-átlag & (stat-átlag)\\textasciicircum{}2 & (mat-átlag)\\textasciicircum{}2 & szorzat\\\\\n",
       "\\hline\n",
       "\t  -2  &   3  &   4  &   9  &   -6\\\\\n",
       "\t -11  & -16  & 121  & 256  &  176\\\\\n",
       "\t   0  & -13  &   0  & 169  &    0\\\\\n",
       "\t  14  &  11  & 196  & 121  &  154\\\\\n",
       "\t   3  &  -2  &   9  &   4  &   -6\\\\\n",
       "\t   9  &   3  &  81  &   9  &   27\\\\\n",
       "\t -11  &   4  & 121  &  16  &  -44\\\\\n",
       "\t  -4  &  -4  &  16  &  16  &   16\\\\\n",
       "\t  14  &   6  & 196  &  36  &   84\\\\\n",
       "\t  -9  &  -2  &  81  &   4  &   18\\\\\n",
       "\t   2  &  -4  &   4  &  16  &   -8\\\\\n",
       "\t  -7  & -14  &  49  & 196  &   98\\\\\n",
       "\t -12  &  13  & 144  & 169  & -156\\\\\n",
       "\t   6  &   6  &  36  &  36  &   36\\\\\n",
       "\t   8  &   9  &  64  &  81  &   72\\\\\n",
       "\\end{tabular}\n"
      ],
      "text/markdown": [
       "\n",
       "stat-átlag | mat-átlag | (stat-átlag)^2 | (mat-átlag)^2 | szorzat | \n",
       "|---|---|---|---|---|---|---|---|---|---|---|---|---|---|---|\n",
       "|  -2  |   3  |   4  |   9  |   -6 | \n",
       "| -11  | -16  | 121  | 256  |  176 | \n",
       "|   0  | -13  |   0  | 169  |    0 | \n",
       "|  14  |  11  | 196  | 121  |  154 | \n",
       "|   3  |  -2  |   9  |   4  |   -6 | \n",
       "|   9  |   3  |  81  |   9  |   27 | \n",
       "| -11  |   4  | 121  |  16  |  -44 | \n",
       "|  -4  |  -4  |  16  |  16  |   16 | \n",
       "|  14  |   6  | 196  |  36  |   84 | \n",
       "|  -9  |  -2  |  81  |   4  |   18 | \n",
       "|   2  |  -4  |   4  |  16  |   -8 | \n",
       "|  -7  | -14  |  49  | 196  |   98 | \n",
       "| -12  |  13  | 144  | 169  | -156 | \n",
       "|   6  |   6  |  36  |  36  |   36 | \n",
       "|   8  |   9  |  64  |  81  |   72 | \n",
       "\n",
       "\n"
      ],
      "text/plain": [
       "      stat-átlag mat-átlag (stat-átlag)^2 (mat-átlag)^2 szorzat\n",
       " [1,]  -2          3         4              9             -6   \n",
       " [2,] -11        -16       121            256            176   \n",
       " [3,]   0        -13         0            169              0   \n",
       " [4,]  14         11       196            121            154   \n",
       " [5,]   3         -2         9              4             -6   \n",
       " [6,]   9          3        81              9             27   \n",
       " [7,] -11          4       121             16            -44   \n",
       " [8,]  -4         -4        16             16             16   \n",
       " [9,]  14          6       196             36             84   \n",
       "[10,]  -9         -2        81              4             18   \n",
       "[11,]   2         -4         4             16             -8   \n",
       "[12,]  -7        -14        49            196             98   \n",
       "[13,] -12         13       144            169           -156   \n",
       "[14,]   6          6        36             36             36   \n",
       "[15,]   8          9        64             81             72   "
      ]
     },
     "metadata": {},
     "output_type": "display_data"
    }
   ],
   "source": [
    "elteres1=tbl[,1]-m1\n",
    "elteres2=tbl[,2]-m2\n",
    "elteres1sq=elteres1^2\n",
    "elteres2sq=elteres2^2\n",
    "szorzat=elteres1*elteres2\n",
    "szamolas=cbind(elteres1,elteres2,elteres1sq,elteres2sq,szorzat)\n",
    "colnames(szamolas)=c(sprintf(\"%s-átlag\",s1),sprintf(\"%s-átlag\",s2),\n",
    "                     sprintf(\"(%s-átlag)^2\",s1),sprintf(\"(%s-átlag)^2\",s2),\n",
    "                     \"szorzat\")\n",
    "szamolas"
   ]
  },
  {
   "cell_type": "code",
   "execution_count": 7,
   "metadata": {},
   "outputs": [
    {
     "data": {
      "text/html": [
       "<span style=white-space:pre-wrap>'D(stat)=     8.64869932417586'</span>"
      ],
      "text/latex": [
       "'D(stat)=     8.64869932417586'"
      ],
      "text/markdown": [
       "<span style=white-space:pre-wrap>'D(stat)=     8.64869932417586'</span>"
      ],
      "text/plain": [
       "[1] \"D(stat)=     8.64869932417586\""
      ]
     },
     "metadata": {},
     "output_type": "display_data"
    },
    {
     "data": {
      "text/html": [
       "<span style=white-space:pre-wrap>'D(mat)=     8.71014733897577'</span>"
      ],
      "text/latex": [
       "'D(mat)=     8.71014733897577'"
      ],
      "text/markdown": [
       "<span style=white-space:pre-wrap>'D(mat)=     8.71014733897577'</span>"
      ],
      "text/plain": [
       "[1] \"D(mat)=     8.71014733897577\""
      ]
     },
     "metadata": {},
     "output_type": "display_data"
    },
    {
     "data": {
      "text/html": [
       "<span style=white-space:pre-wrap>'cov(stat,mat)=    30.7333333333333'</span>"
      ],
      "text/latex": [
       "'cov(stat,mat)=    30.7333333333333'"
      ],
      "text/markdown": [
       "<span style=white-space:pre-wrap>'cov(stat,mat)=    30.7333333333333'</span>"
      ],
      "text/plain": [
       "[1] \"cov(stat,mat)=    30.7333333333333\""
      ]
     },
     "metadata": {},
     "output_type": "display_data"
    },
    {
     "data": {
      "text/html": [
       "<span style=white-space:pre-wrap>'corr(stat,mat)=    0.407974826030248'</span>"
      ],
      "text/latex": [
       "'corr(stat,mat)=    0.407974826030248'"
      ],
      "text/markdown": [
       "<span style=white-space:pre-wrap>'corr(stat,mat)=    0.407974826030248'</span>"
      ],
      "text/plain": [
       "[1] \"corr(stat,mat)=    0.407974826030248\""
      ]
     },
     "metadata": {},
     "output_type": "display_data"
    }
   ],
   "source": [
    "d1=sqrt(mean(elteres1sq))\n",
    "d2=sqrt(mean(elteres2sq))\n",
    "cv=mean(elteres1*elteres2)\n",
    "paste(sprintf(\"D(%s)=    \",s1),d1)\n",
    "paste(sprintf(\"D(%s)=    \",s2),d2)\n",
    "paste(sprintf(\"cov(%s,%s)=   \",s1,s2),cv)\n",
    "cr=cv/(d1*d2)\n",
    "paste(sprintf(\"corr(%s,%s)=   \",s1,s2),cr)"
   ]
  },
  {
   "cell_type": "code",
   "execution_count": null,
   "metadata": {},
   "outputs": [],
   "source": []
  }
 ],
 "metadata": {
  "kernelspec": {
   "display_name": "R",
   "language": "R",
   "name": "ir"
  },
  "language_info": {
   "codemirror_mode": "r",
   "file_extension": ".r",
   "mimetype": "text/x-r-source",
   "name": "R",
   "pygments_lexer": "r",
   "version": "3.3.2"
  }
 },
 "nbformat": 4,
 "nbformat_minor": 2
}
